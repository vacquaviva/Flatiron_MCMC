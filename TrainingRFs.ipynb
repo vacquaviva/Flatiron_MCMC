{
  "nbformat": 4,
  "nbformat_minor": 0,
  "metadata": {
    "colab": {
      "name": "TrainingRFs.ipynb",
      "provenance": [],
      "collapsed_sections": [],
      "authorship_tag": "ABX9TyPyqI1eo5qagAcz2dJbUrFQ",
      "include_colab_link": true
    },
    "kernelspec": {
      "name": "python3",
      "display_name": "Python 3"
    },
    "accelerator": "GPU"
  },
  "cells": [
    {
      "cell_type": "markdown",
      "metadata": {
        "id": "view-in-github",
        "colab_type": "text"
      },
      "source": [
        "<a href=\"https://colab.research.google.com/github/vacquaviva/Flatiron_MCMC/blob/master/TrainingRFs.ipynb\" target=\"_parent\"><img src=\"https://colab.research.google.com/assets/colab-badge.svg\" alt=\"Open In Colab\"/></a>"
      ]
    },
    {
      "cell_type": "code",
      "metadata": {
        "scrolled": true,
        "id": "lSiWBZHP73bC",
        "colab_type": "code",
        "colab": {}
      },
      "source": [
        "import numpy as np\n",
        "import pandas as pd\n",
        "import h5py\n",
        "\n",
        "pd.set_option('display.max_columns', 500)\n",
        "pd.set_option('display.max_colwidth', 100)\n",
        "\n",
        "%matplotlib inline\n",
        "import matplotlib.pyplot as plt\n",
        "from matplotlib import rc\n",
        "rc('font',**{'family':'sans-serif','sans-serif':['Helvetica']})\n",
        "rc('text', usetex=False)"
      ],
      "execution_count": 0,
      "outputs": []
    },
    {
      "cell_type": "code",
      "metadata": {
        "id": "sWjBXPFTSC-P",
        "colab_type": "code",
        "colab": {}
      },
      "source": [
        "from sklearn.ensemble import RandomForestRegressor\n",
        "from sklearn.preprocessing import StandardScaler, RobustScaler\n",
        "from sklearn.model_selection import cross_val_predict, cross_val_score, cross_validate\n",
        "from sklearn.model_selection import train_test_split, KFold\n",
        "from sklearn import metrics\n",
        "from sklearn.model_selection import GridSearchCV\n",
        "from sklearn.metrics import make_scorer"
      ],
      "execution_count": 0,
      "outputs": []
    },
    {
      "cell_type": "code",
      "metadata": {
        "id": "Z9OAzBJM08bw",
        "colab_type": "code",
        "colab": {}
      },
      "source": [
        "import time"
      ],
      "execution_count": 0,
      "outputs": []
    },
    {
      "cell_type": "code",
      "metadata": {
        "id": "-K4RzuzI8O-K",
        "colab_type": "code",
        "outputId": "4f90e939-d74d-4233-f36d-e99eafb485d3",
        "colab": {
          "base_uri": "https://localhost:8080/",
          "height": 141
        }
      },
      "source": [
        "from google.colab import drive\n",
        "drive.mount('/gdrive')\n",
        "%cd /gdrive"
      ],
      "execution_count": 4,
      "outputs": [
        {
          "output_type": "stream",
          "text": [
            "Go to this URL in a browser: https://accounts.google.com/o/oauth2/auth?client_id=947318989803-6bn6qk8qdgf4n4g3pfee6491hc0brc4i.apps.googleusercontent.com&redirect_uri=urn%3aietf%3awg%3aoauth%3a2.0%3aoob&response_type=code&scope=email%20https%3a%2f%2fwww.googleapis.com%2fauth%2fdocs.test%20https%3a%2f%2fwww.googleapis.com%2fauth%2fdrive%20https%3a%2f%2fwww.googleapis.com%2fauth%2fdrive.photos.readonly%20https%3a%2f%2fwww.googleapis.com%2fauth%2fpeopleapi.readonly\n",
            "\n",
            "Enter your authorization code:\n",
            "··········\n",
            "Mounted at /gdrive\n",
            "/gdrive\n"
          ],
          "name": "stdout"
        }
      ]
    },
    {
      "cell_type": "markdown",
      "metadata": {
        "id": "yUzQlm83rFEW",
        "colab_type": "text"
      },
      "source": [
        "Useful ref:\n",
        "\n",
        "http://docs.h5py.org/en/stable/quick.html"
      ]
    },
    {
      "cell_type": "markdown",
      "metadata": {
        "id": "ZefWQGPFrE5d",
        "colab_type": "text"
      },
      "source": [
        ""
      ]
    },
    {
      "cell_type": "code",
      "metadata": {
        "id": "y1ugZAUczx5z",
        "colab_type": "code",
        "colab": {}
      },
      "source": [
        "prefixes = ['bc03_','fsps_','fsps_neb_','bpass_','bpass_sin_']\n",
        "\n",
        "dusts = ['int_','dustA_', 'dustB_', 'dustC_']\n",
        "\n",
        "listofspec = [p+d+'spec' for p in prefixes for d in dusts]"
      ],
      "execution_count": 0,
      "outputs": []
    },
    {
      "cell_type": "code",
      "metadata": {
        "colab_type": "code",
        "id": "N92TpdtmNk5f",
        "colab": {}
      },
      "source": [
        "# Thanks to this kind soul\n",
        "# https://stackoverflow.com/questions/51548551/reading-nested-h5-group-into-numpy-array\n",
        "\n",
        "def traverse_datasets(hdf_file):\n",
        "\n",
        "    def h5py_dataset_iterator(g, prefix=''):\n",
        "        for key in g.keys():\n",
        "            item = g[key]\n",
        "            path = f'{prefix}/{key}'\n",
        "            if isinstance(item, h5py.Dataset): # test for dataset\n",
        "                yield (path, item)\n",
        "            elif isinstance(item, h5py.Group): # test for group (go down)\n",
        "                yield from h5py_dataset_iterator(item, path)\n",
        "\n",
        "    for path, _ in h5py_dataset_iterator(hdf_file):\n",
        "        yield path"
      ],
      "execution_count": 0,
      "outputs": []
    },
    {
      "cell_type": "code",
      "metadata": {
        "id": "N1V5vOpossip",
        "colab_type": "code",
        "colab": {}
      },
      "source": [
        "with h5py.File('My Drive/full_histories_illustris.h5', 'r') as f:\n",
        "    for dset in traverse_datasets(f):\n",
        "        print('Path:', dset)\n",
        "        print('Shape:', f[dset].shape)\n",
        "        print('Data type:', f[dset].dtype)"
      ],
      "execution_count": 0,
      "outputs": []
    },
    {
      "cell_type": "code",
      "metadata": {
        "id": "FH7EfbWS93km",
        "colab_type": "code",
        "colab": {}
      },
      "source": [
        "#Read in data, SFHs, stellar mass\n",
        "\n",
        "spectra = {}\n",
        "\n",
        "with h5py.File('My Drive/full_histories_illustris.h5','r') as f:\n",
        "    spectra = {'bc03_int_spec': f['Spectra/bc03 Intrinsic/spectrum'][:], #6473 gals, 4601 wavelengths\n",
        "    'bc03_dustA_spec' : f['Spectra/bc03 Dust_A/spectrum'][:], \n",
        "    'bc03_dustB_spec' : f['Spectra/bc03 Dust_B/spectrum'][:],\n",
        "    'bc03_dustC_spec' : f['Spectra/bc03 Dust_C/spectrum'][:],\n",
        "    'fsps_int_spec' : f['Spectra/fsps Intrinsic/spectrum'][:],\n",
        "    'fsps_dustA_spec' : f['Spectra/fsps Dust_A/spectrum'][:],\n",
        "    'fsps_dustB_spec' : f['Spectra/fsps Dust_B/spectrum'][:],\n",
        "    'fsps_dustC_spec' : f['Spectra/fsps Dust_C/spectrum'][:],\n",
        "    'fsps_neb_int_spec' : f['Spectra/fsps Intrinsic/spectrum'][:],\n",
        "    'fsps_neb_dustA_spec' : f['Spectra/fsps_neb Dust_A/spectrum'][:],\n",
        "    'fsps_neb_dustB_spec' : f['Spectra/fsps_neb Dust_B/spectrum'][:],\n",
        "    'fsps_neb_dustC_spec' : f['Spectra/fsps_neb Dust_C/spectrum'][:],\n",
        "    'bpass_int_spec' : f['Spectra/bpass Intrinsic/spectrum'][:],\n",
        "    'bpass_dustA_spec' : f['Spectra/bpass Dust_A/spectrum'][:],\n",
        "    'bpass_dustB_spec' : f['Spectra/bpass Dust_B/spectrum'][:],\n",
        "    'bpass_dustC_spec' : f['Spectra/bpass Dust_C/spectrum'][:],\n",
        "    'bpass_sin_int_spec' : f['Spectra/bpass_sin Intrinsic/spectrum'][:],\n",
        "    'bpass_sin_dustA_spec' : f['Spectra/bpass_sin Dust_A/spectrum'][:],\n",
        "    'bpass_sin_dustB_spec' : f['Spectra/bpass_sin Dust_B/spectrum'][:],\n",
        "    'bpass_sin_dustC_spec' : f['Spectra/bpass_sin Dust_C/spectrum'][:]}\n",
        "    \n",
        "    wl = f['Spectra/bc03 Dust_A/wavelength'][:]\n",
        "\n",
        "    SFHs = f['SFH/log_8'][:]\n",
        "\n",
        "    SMass = f['/Subhalos/Stellar Mass'][:]\n",
        "\n",
        "    binlimits = f['/bins/log_8/binLimits'][:] \n"
      ],
      "execution_count": 0,
      "outputs": []
    },
    {
      "cell_type": "code",
      "metadata": {
        "id": "4wdBoVCZOpvJ",
        "colab_type": "code",
        "colab": {}
      },
      "source": [
        "ref_spec = spectra['fsps_dustB_spec']"
      ],
      "execution_count": 0,
      "outputs": []
    },
    {
      "cell_type": "markdown",
      "metadata": {
        "id": "zTI4YFzPRdPC",
        "colab_type": "text"
      },
      "source": [
        "Let's log those spectra"
      ]
    },
    {
      "cell_type": "code",
      "metadata": {
        "id": "TWgMKOpNRerx",
        "colab_type": "code",
        "colab": {}
      },
      "source": [
        "X = np.log10(ref_spec)"
      ],
      "execution_count": 0,
      "outputs": []
    },
    {
      "cell_type": "code",
      "metadata": {
        "id": "tvOoxJ9gRsWj",
        "colab_type": "code",
        "outputId": "c91e2d68-abed-4ed2-87d4-43b973746a71",
        "colab": {
          "base_uri": "https://localhost:8080/",
          "height": 34
        }
      },
      "source": [
        "X.shape"
      ],
      "execution_count": 0,
      "outputs": [
        {
          "output_type": "execute_result",
          "data": {
            "text/plain": [
              "(6473, 4601)"
            ]
          },
          "metadata": {
            "tags": []
          },
          "execution_count": 10
        }
      ]
    },
    {
      "cell_type": "code",
      "metadata": {
        "id": "q3oI32rGNsez",
        "colab_type": "code",
        "colab": {}
      },
      "source": [
        "np.random.seed(10)\n",
        "sel = np.random.choice(X.shape[0], 650) #make it smaller; technically should re-run optimization with seed fixed"
      ],
      "execution_count": 0,
      "outputs": []
    },
    {
      "cell_type": "code",
      "metadata": {
        "id": "hyLb7BMmRtbl",
        "colab_type": "code",
        "colab": {}
      },
      "source": [
        "model = RandomForestRegressor()"
      ],
      "execution_count": 0,
      "outputs": []
    },
    {
      "cell_type": "code",
      "metadata": {
        "id": "dF4jShvVUexx",
        "colab_type": "code",
        "colab": {}
      },
      "source": [
        "cv = KFold(shuffle = True, n_splits=3)"
      ],
      "execution_count": 0,
      "outputs": []
    },
    {
      "cell_type": "code",
      "metadata": {
        "id": "wjIsDBC5UtH3",
        "colab_type": "code",
        "outputId": "14c50b77-0433-4e6e-ebb2-a2cbf1d6eea5",
        "colab": {
          "base_uri": "https://localhost:8080/",
          "height": 193
        }
      },
      "source": [
        "#All the features\n",
        "\n",
        "#beg = time.time()\n",
        "#scores = cross_val_score(model, X[sel,:], SFHs[sel,:], cv = cv, verbose = 1)\n",
        "#end = time.time()\n",
        "#print('It took me', end-beg, 'seconds to do this!')\n",
        "#print(scores, scores.mean(), scores.std())"
      ],
      "execution_count": 0,
      "outputs": [
        {
          "output_type": "stream",
          "text": [
            "[Parallel(n_jobs=1)]: Using backend SequentialBackend with 1 concurrent workers.\n",
            "/usr/local/lib/python3.6/dist-packages/sklearn/base.py:434: FutureWarning: The default value of multioutput (not exposed in score method) will change from 'variance_weighted' to 'uniform_average' in 0.23 to keep consistent with 'metrics.r2_score'. To specify the default value manually and avoid the warning, please either call 'metrics.r2_score' directly or make a custom scorer with 'metrics.make_scorer' (the built-in scorer 'r2' uses multioutput='uniform_average').\n",
            "  \"multioutput='uniform_average').\", FutureWarning)\n",
            "/usr/local/lib/python3.6/dist-packages/sklearn/base.py:434: FutureWarning: The default value of multioutput (not exposed in score method) will change from 'variance_weighted' to 'uniform_average' in 0.23 to keep consistent with 'metrics.r2_score'. To specify the default value manually and avoid the warning, please either call 'metrics.r2_score' directly or make a custom scorer with 'metrics.make_scorer' (the built-in scorer 'r2' uses multioutput='uniform_average').\n",
            "  \"multioutput='uniform_average').\", FutureWarning)\n"
          ],
          "name": "stderr"
        },
        {
          "output_type": "stream",
          "text": [
            "It took me 259.3950970172882 seconds to do this!\n"
          ],
          "name": "stdout"
        },
        {
          "output_type": "stream",
          "text": [
            "/usr/local/lib/python3.6/dist-packages/sklearn/base.py:434: FutureWarning: The default value of multioutput (not exposed in score method) will change from 'variance_weighted' to 'uniform_average' in 0.23 to keep consistent with 'metrics.r2_score'. To specify the default value manually and avoid the warning, please either call 'metrics.r2_score' directly or make a custom scorer with 'metrics.make_scorer' (the built-in scorer 'r2' uses multioutput='uniform_average').\n",
            "  \"multioutput='uniform_average').\", FutureWarning)\n",
            "[Parallel(n_jobs=1)]: Done   3 out of   3 | elapsed:  4.3min finished\n"
          ],
          "name": "stderr"
        }
      ]
    },
    {
      "cell_type": "code",
      "metadata": {
        "id": "n2xC-gVdU0mb",
        "colab_type": "code",
        "outputId": "728e6a34-365d-4b20-e58b-36ad1ee8875e",
        "colab": {
          "base_uri": "https://localhost:8080/",
          "height": 34
        }
      },
      "source": [
        "scores #r2 score with all features"
      ],
      "execution_count": 0,
      "outputs": [
        {
          "output_type": "execute_result",
          "data": {
            "text/plain": [
              "array([0.88364537, 0.81579458, 0.72487614])"
            ]
          },
          "metadata": {
            "tags": []
          },
          "execution_count": 16
        }
      ]
    },
    {
      "cell_type": "markdown",
      "metadata": {
        "id": "86ZviY-gvC5p",
        "colab_type": "text"
      },
      "source": [
        "Unsupervised feature selection (one every two)"
      ]
    },
    {
      "cell_type": "markdown",
      "metadata": {
        "id": "wsPfcXdgq0ZS",
        "colab_type": "text"
      },
      "source": [
        ""
      ]
    },
    {
      "cell_type": "code",
      "metadata": {
        "id": "wADV4C8b7fTS",
        "colab_type": "code",
        "outputId": "7c555950-9079-465d-93a7-f73e1d200d8a",
        "colab": {
          "base_uri": "https://localhost:8080/",
          "height": 69
        }
      },
      "source": [
        "#Don't run\n",
        "\n",
        "ypred = cross_val_predict(model, X[sel,::2], SFHs[sel,:], cv = cv, verbose = 2)"
      ],
      "execution_count": 0,
      "outputs": [
        {
          "output_type": "stream",
          "text": [
            "[Parallel(n_jobs=1)]: Using backend SequentialBackend with 1 concurrent workers.\n",
            "[Parallel(n_jobs=1)]: Done   1 out of   1 | elapsed:   47.2s remaining:    0.0s\n",
            "[Parallel(n_jobs=1)]: Done   3 out of   3 | elapsed:  2.3min finished\n"
          ],
          "name": "stderr"
        }
      ]
    },
    {
      "cell_type": "code",
      "metadata": {
        "id": "grxAIQd72EPP",
        "colab_type": "code",
        "outputId": "a936d81f-ca12-4ef2-eebf-30681eb4468a",
        "colab": {
          "base_uri": "https://localhost:8080/",
          "height": 282
        }
      },
      "source": [
        "#Don't run\n",
        "\n",
        "#distribution of residuals\n",
        "\n",
        "for i in range(SFHs.shape[1]):\n",
        "#  plt.figure()\n",
        "  plt.hist((SFHs[sel,i] - ypred[:,i])/(SFHs[sel,i]+0.01), bins = 30, alpha = 0.3, range = [-2,2], label = 'Bin'+str(i))\n",
        "plt.legend()"
      ],
      "execution_count": 0,
      "outputs": [
        {
          "output_type": "execute_result",
          "data": {
            "text/plain": [
              "<matplotlib.legend.Legend at 0x7f1b2cde6908>"
            ]
          },
          "metadata": {
            "tags": []
          },
          "execution_count": 36
        },
        {
          "output_type": "display_data",
          "data": {
            "image/png": "[encoded data removed]",
            "text/plain": [
              "<Figure size 432x288 with 1 Axes>"
            ]
          },
          "metadata": {
            "tags": []
          }
        }
      ]
    },
    {
      "cell_type": "code",
      "metadata": {
        "id": "Jw2ADA-y2LWf",
        "colab_type": "code",
        "colab": {}
      },
      "source": [
        "def smape(true,pred):\n",
        "  return np.sum(np.abs(true-pred))/np.sum(true+pred)"
      ],
      "execution_count": 0,
      "outputs": []
    },
    {
      "cell_type": "markdown",
      "metadata": {
        "id": "4d1j-kDKq3dm",
        "colab_type": "text"
      },
      "source": [
        ""
      ]
    },
    {
      "cell_type": "code",
      "metadata": {
        "id": "HOmKV-_NiiT5",
        "colab_type": "code",
        "colab": {}
      },
      "source": [
        "def multioutputsmape(targets, pred):\n",
        "  return np.mean(np.array([2 * smape(targets[i,:],pred[i,:]) for i in range(targets.shape[0])]))"
      ],
      "execution_count": 0,
      "outputs": []
    },
    {
      "cell_type": "code",
      "metadata": {
        "id": "b7SUwXJAiQrG",
        "colab_type": "code",
        "colab": {}
      },
      "source": [
        "smape_scorer = make_scorer(multioutputsmape, greater_is_better = False)"
      ],
      "execution_count": 0,
      "outputs": []
    },
    {
      "cell_type": "code",
      "metadata": {
        "id": "T96QgrlP9GmL",
        "colab_type": "code",
        "colab": {}
      },
      "source": [
        "targets = SFHs[sel,:]"
      ],
      "execution_count": 0,
      "outputs": []
    },
    {
      "cell_type": "code",
      "metadata": {
        "id": "Q989bcrPivUL",
        "colab_type": "code",
        "colab": {}
      },
      "source": [
        "#Do not run; simple CV with every other feature and smape scorer below\n",
        "\n",
        "#{'fit_time': array([41.71309137, 42.79233432, 41.62490797]),\n",
        "# 'score_time': array([0.01293659, 0.01351094, 0.01302695]),\n",
        "# 'test_score': array([-0.22774546, -0.23144261, -0.2346226 ]),\n",
        "# 'train_score': array([-0.08610893, -0.08807034, -0.08678541])}\n",
        "\n",
        "cv_results = cross_validate(model, X[sel,::2], targets,  cv = cv, scoring = smape_scorer, return_train_score=True);"
      ],
      "execution_count": 0,
      "outputs": []
    },
    {
      "cell_type": "code",
      "metadata": {
        "id": "C3nMixaLkRMM",
        "colab_type": "code",
        "outputId": "7a13abe3-42d9-4fa4-ef31-40b4d3e7e935",
        "colab": {
          "base_uri": "https://localhost:8080/",
          "height": 86
        }
      },
      "source": [
        "cv_results"
      ],
      "execution_count": 0,
      "outputs": [
        {
          "output_type": "execute_result",
          "data": {
            "text/plain": [
              "{'fit_time': array([41.71309137, 42.79233432, 41.62490797]),\n",
              " 'score_time': array([0.01293659, 0.01351094, 0.01302695]),\n",
              " 'test_score': array([-0.22774546, -0.23144261, -0.2346226 ]),\n",
              " 'train_score': array([-0.08610893, -0.08807034, -0.08678541])}"
            ]
          },
          "metadata": {
            "tags": []
          },
          "execution_count": 28
        }
      ]
    },
    {
      "cell_type": "markdown",
      "metadata": {
        "id": "lbOWKWkFQcpk",
        "colab_type": "text"
      },
      "source": [
        "Optimization, based on previous runs with other scorers. Problem is high variance\n",
        "\n",
        "---\n",
        "\n",
        "N_est = 200, tried sqrt features which wasn't good, can try with some fractions"
      ]
    },
    {
      "cell_type": "code",
      "metadata": {
        "id": "3X8tyTlcQcvd",
        "colab_type": "code",
        "outputId": "03187ae8-6664-4a6d-db34-1f124575214a",
        "colab": {
          "base_uri": "https://localhost:8080/",
          "height": 104
        }
      },
      "source": [
        "parameters = {'max_depth':[20,40], \\\n",
        "              'max_features': [0.25,0.5,1.0], 'n_estimators':[100,200]}\n",
        "nmodels = np.product([len(el) for el in parameters.values()])\n",
        "\n",
        "model = GridSearchCV(RandomForestRegressor(), parameters, cv = cv, \\\n",
        "                     scoring = smape_scorer, return_train_score = True, \\\n",
        "    verbose = 3, n_jobs = 4)\n",
        "model.fit(X[sel,::2], targets)\n",
        "print('Best params, best score:', \"{:.4f}\".format(model.best_score_), model.best_params_)"
      ],
      "execution_count": 0,
      "outputs": [
        {
          "output_type": "stream",
          "text": [
            "Fitting 3 folds for each of 12 candidates, totalling 36 fits\n"
          ],
          "name": "stdout"
        },
        {
          "output_type": "stream",
          "text": [
            "[Parallel(n_jobs=4)]: Using backend LokyBackend with 4 concurrent workers.\n",
            "[Parallel(n_jobs=4)]: Done  24 tasks      | elapsed: 11.9min\n",
            "[Parallel(n_jobs=4)]: Done  36 out of  36 | elapsed: 19.7min finished\n"
          ],
          "name": "stderr"
        },
        {
          "output_type": "stream",
          "text": [
            "Best params, best score: -0.2226 {'max_depth': 40, 'max_features': 0.5, 'n_estimators': 100}\n"
          ],
          "name": "stdout"
        }
      ]
    },
    {
      "cell_type": "code",
      "metadata": {
        "id": "0seG5rdYe5aS",
        "colab_type": "code",
        "colab": {}
      },
      "source": [
        ""
      ],
      "execution_count": 0,
      "outputs": []
    },
    {
      "cell_type": "code",
      "metadata": {
        "id": "ooGe-N1_QctR",
        "colab_type": "code",
        "outputId": "b61cb615-8570-44f6-d7eb-cba0a588abaf",
        "colab": {
          "base_uri": "https://localhost:8080/",
          "height": 426
        }
      },
      "source": [
        "res = pd.DataFrame(model.cv_results_)\n",
        "res[['mean_train_score','mean_test_score','std_test_score','params','mean_fit_time']].sort_values('mean_test_score', ascending = False)#, sortedby = 'mean_test_score')"
      ],
      "execution_count": 0,
      "outputs": [
        {
          "output_type": "execute_result",
          "data": {
            "text/html": [
              "<div>\n",
              "<style scoped>\n",
              "    .dataframe tbody tr th:only-of-type {\n",
              "        vertical-align: middle;\n",
              "    }\n",
              "\n",
              "    .dataframe tbody tr th {\n",
              "        vertical-align: top;\n",
              "    }\n",
              "\n",
              "    .dataframe thead th {\n",
              "        text-align: right;\n",
              "    }\n",
              "</style>\n",
              "<table border=\"1\" class=\"dataframe\">\n",
              "  <thead>\n",
              "    <tr style=\"text-align: right;\">\n",
              "      <th></th>\n",
              "      <th>mean_train_score</th>\n",
              "      <th>mean_test_score</th>\n",
              "      <th>std_test_score</th>\n",
              "      <th>params</th>\n",
              "      <th>mean_fit_time</th>\n",
              "    </tr>\n",
              "  </thead>\n",
              "  <tbody>\n",
              "    <tr>\n",
              "      <th>8</th>\n",
              "      <td>-0.084193</td>\n",
              "      <td>-0.222640</td>\n",
              "      <td>0.005105</td>\n",
              "      <td>{'max_depth': 40, 'max_features': 0.5, 'n_estimators': 100}</td>\n",
              "      <td>73.701877</td>\n",
              "    </tr>\n",
              "    <tr>\n",
              "      <th>9</th>\n",
              "      <td>-0.083530</td>\n",
              "      <td>-0.222999</td>\n",
              "      <td>0.004353</td>\n",
              "      <td>{'max_depth': 40, 'max_features': 0.5, 'n_estimators': 200}</td>\n",
              "      <td>147.693908</td>\n",
              "    </tr>\n",
              "    <tr>\n",
              "      <th>1</th>\n",
              "      <td>-0.083451</td>\n",
              "      <td>-0.223163</td>\n",
              "      <td>0.005397</td>\n",
              "      <td>{'max_depth': 20, 'max_features': 0.25, 'n_estimators': 200}</td>\n",
              "      <td>75.390342</td>\n",
              "    </tr>\n",
              "    <tr>\n",
              "      <th>3</th>\n",
              "      <td>-0.083550</td>\n",
              "      <td>-0.223483</td>\n",
              "      <td>0.003220</td>\n",
              "      <td>{'max_depth': 20, 'max_features': 0.5, 'n_estimators': 200}</td>\n",
              "      <td>156.666015</td>\n",
              "    </tr>\n",
              "    <tr>\n",
              "      <th>7</th>\n",
              "      <td>-0.083772</td>\n",
              "      <td>-0.223762</td>\n",
              "      <td>0.003972</td>\n",
              "      <td>{'max_depth': 40, 'max_features': 0.25, 'n_estimators': 200}</td>\n",
              "      <td>74.566892</td>\n",
              "    </tr>\n",
              "    <tr>\n",
              "      <th>6</th>\n",
              "      <td>-0.084240</td>\n",
              "      <td>-0.223974</td>\n",
              "      <td>0.004448</td>\n",
              "      <td>{'max_depth': 40, 'max_features': 0.25, 'n_estimators': 100}</td>\n",
              "      <td>37.815597</td>\n",
              "    </tr>\n",
              "    <tr>\n",
              "      <th>5</th>\n",
              "      <td>-0.083248</td>\n",
              "      <td>-0.224185</td>\n",
              "      <td>0.004105</td>\n",
              "      <td>{'max_depth': 20, 'max_features': 1.0, 'n_estimators': 200}</td>\n",
              "      <td>294.384429</td>\n",
              "    </tr>\n",
              "    <tr>\n",
              "      <th>11</th>\n",
              "      <td>-0.083739</td>\n",
              "      <td>-0.224732</td>\n",
              "      <td>0.004749</td>\n",
              "      <td>{'max_depth': 40, 'max_features': 1.0, 'n_estimators': 200}</td>\n",
              "      <td>225.702444</td>\n",
              "    </tr>\n",
              "    <tr>\n",
              "      <th>2</th>\n",
              "      <td>-0.084624</td>\n",
              "      <td>-0.224987</td>\n",
              "      <td>0.002861</td>\n",
              "      <td>{'max_depth': 20, 'max_features': 0.5, 'n_estimators': 100}</td>\n",
              "      <td>76.434437</td>\n",
              "    </tr>\n",
              "    <tr>\n",
              "      <th>4</th>\n",
              "      <td>-0.084077</td>\n",
              "      <td>-0.225113</td>\n",
              "      <td>0.005023</td>\n",
              "      <td>{'max_depth': 20, 'max_features': 1.0, 'n_estimators': 100}</td>\n",
              "      <td>151.228841</td>\n",
              "    </tr>\n",
              "    <tr>\n",
              "      <th>0</th>\n",
              "      <td>-0.084297</td>\n",
              "      <td>-0.226080</td>\n",
              "      <td>0.004147</td>\n",
              "      <td>{'max_depth': 20, 'max_features': 0.25, 'n_estimators': 100}</td>\n",
              "      <td>37.961910</td>\n",
              "    </tr>\n",
              "    <tr>\n",
              "      <th>10</th>\n",
              "      <td>-0.084587</td>\n",
              "      <td>-0.226554</td>\n",
              "      <td>0.006568</td>\n",
              "      <td>{'max_depth': 40, 'max_features': 1.0, 'n_estimators': 100}</td>\n",
              "      <td>147.537170</td>\n",
              "    </tr>\n",
              "  </tbody>\n",
              "</table>\n",
              "</div>"
            ],
            "text/plain": [
              "    mean_train_score  mean_test_score  std_test_score  \\\n",
              "8          -0.084193        -0.222640        0.005105   \n",
              "9          -0.083530        -0.222999        0.004353   \n",
              "1          -0.083451        -0.223163        0.005397   \n",
              "3          -0.083550        -0.223483        0.003220   \n",
              "7          -0.083772        -0.223762        0.003972   \n",
              "6          -0.084240        -0.223974        0.004448   \n",
              "5          -0.083248        -0.224185        0.004105   \n",
              "11         -0.083739        -0.224732        0.004749   \n",
              "2          -0.084624        -0.224987        0.002861   \n",
              "4          -0.084077        -0.225113        0.005023   \n",
              "0          -0.084297        -0.226080        0.004147   \n",
              "10         -0.084587        -0.226554        0.006568   \n",
              "\n",
              "                                                          params  \\\n",
              "8    {'max_depth': 40, 'max_features': 0.5, 'n_estimators': 100}   \n",
              "9    {'max_depth': 40, 'max_features': 0.5, 'n_estimators': 200}   \n",
              "1   {'max_depth': 20, 'max_features': 0.25, 'n_estimators': 200}   \n",
              "3    {'max_depth': 20, 'max_features': 0.5, 'n_estimators': 200}   \n",
              "7   {'max_depth': 40, 'max_features': 0.25, 'n_estimators': 200}   \n",
              "6   {'max_depth': 40, 'max_features': 0.25, 'n_estimators': 100}   \n",
              "5    {'max_depth': 20, 'max_features': 1.0, 'n_estimators': 200}   \n",
              "11   {'max_depth': 40, 'max_features': 1.0, 'n_estimators': 200}   \n",
              "2    {'max_depth': 20, 'max_features': 0.5, 'n_estimators': 100}   \n",
              "4    {'max_depth': 20, 'max_features': 1.0, 'n_estimators': 100}   \n",
              "0   {'max_depth': 20, 'max_features': 0.25, 'n_estimators': 100}   \n",
              "10   {'max_depth': 40, 'max_features': 1.0, 'n_estimators': 100}   \n",
              "\n",
              "    mean_fit_time  \n",
              "8       73.701877  \n",
              "9      147.693908  \n",
              "1       75.390342  \n",
              "3      156.666015  \n",
              "7       74.566892  \n",
              "6       37.815597  \n",
              "5      294.384429  \n",
              "11     225.702444  \n",
              "2       76.434437  \n",
              "4      151.228841  \n",
              "0       37.961910  \n",
              "10     147.537170  "
            ]
          },
          "metadata": {
            "tags": []
          },
          "execution_count": 20
        }
      ]
    },
    {
      "cell_type": "markdown",
      "metadata": {
        "id": "JbvTIxWYfSw7",
        "colab_type": "text"
      },
      "source": [
        "Results show that improvement is minimal, barely significant. We can use n_features = 0.5 and n_est = 100 to be on the safe side (should confirm through nested CV)"
      ]
    },
    {
      "cell_type": "markdown",
      "metadata": {
        "id": "2_mZxO1sQcmf",
        "colab_type": "text"
      },
      "source": [
        "Shall we try GBMs and see if we can work on bias?"
      ]
    },
    {
      "cell_type": "code",
      "metadata": {
        "id": "i-OC4ZI2gbRU",
        "colab_type": "code",
        "colab": {}
      },
      "source": [
        "from sklearn.experimental import enable_hist_gradient_boosting  # noqa\n",
        "# now you can import normally from ensemble\n",
        "from sklearn.ensemble import GradientBoostingRegressor, HistGradientBoostingRegressor\n",
        "from sklearn.multioutput import MultiOutputRegressor\n"
      ],
      "execution_count": 0,
      "outputs": []
    },
    {
      "cell_type": "code",
      "metadata": {
        "id": "Yz6xRoJsgldx",
        "colab_type": "code",
        "colab": {}
      },
      "source": [
        "model_B = MultiOutputRegressor(GradientBoostingRegressor()) #Did not work, too much RAM\n",
        "#model_B = GradientBoostingRegressor()\n",
        "cv_results = cross_validate(model_B, X[sel,::2], targets,  cv = cv, scoring = smape_scorer, return_train_score=True);"
      ],
      "execution_count": 0,
      "outputs": []
    },
    {
      "cell_type": "code",
      "metadata": {
        "id": "UrHs64yQglno",
        "colab_type": "code",
        "outputId": "92240854-c11d-4666-fd14-bbc074dd3126",
        "colab": {
          "base_uri": "https://localhost:8080/",
          "height": 86
        }
      },
      "source": [
        "cv_results"
      ],
      "execution_count": 0,
      "outputs": [
        {
          "output_type": "execute_result",
          "data": {
            "text/plain": [
              "{'fit_time': array([171.49835491, 177.16797352, 175.59178376]),\n",
              " 'score_time': array([0.01924682, 0.02004647, 0.02006698]),\n",
              " 'test_score': array([-0.23018453, -0.22122639, -0.2529532 ]),\n",
              " 'train_score': array([-0.11661452, -0.11385335, -0.11041621])}"
            ]
          },
          "metadata": {
            "tags": []
          },
          "execution_count": 22
        }
      ]
    },
    {
      "cell_type": "markdown",
      "metadata": {
        "id": "SjZAtkNTQIr2",
        "colab_type": "text"
      },
      "source": [
        "I would say no so won't pursue it further for now."
      ]
    },
    {
      "cell_type": "markdown",
      "metadata": {
        "id": "t4HMlcKWrL1P",
        "colab_type": "text"
      },
      "source": [
        "**Done with optimization - Let's look at performance on whole (rest of) data set using params n_split = 40, n_est = 100, max_features = 0.5**\n",
        "\n",
        "\n"
      ]
    },
    {
      "cell_type": "code",
      "metadata": {
        "id": "_Bi4Whk2rhh8",
        "colab_type": "code",
        "colab": {}
      },
      "source": [
        "allindexes = np.arange(X.shape[0])\n",
        "\n",
        "ind = allindexes[~np.isin(allindexes,sel)]\n",
        "\n",
        "feat = X[ind,::2]\n",
        "\n",
        "targ = SFHs[ind]"
      ],
      "execution_count": 0,
      "outputs": []
    },
    {
      "cell_type": "code",
      "metadata": {
        "id": "ausD5OdgEvBF",
        "colab_type": "code",
        "colab": {}
      },
      "source": [
        "bestmodel = RandomForestRegressor(max_depth = 40, max_features = 0.5)"
      ],
      "execution_count": 0,
      "outputs": []
    },
    {
      "cell_type": "code",
      "metadata": {
        "id": "GFJBdC5UrLx7",
        "colab_type": "code",
        "colab": {}
      },
      "source": [
        "cv_results = cross_validate(bestmodel, feat, targ,  cv = cv, scoring = smape_scorer, return_train_score=True);"
      ],
      "execution_count": 0,
      "outputs": []
    },
    {
      "cell_type": "markdown",
      "metadata": {
        "id": "iKijnRGLJ0H9",
        "colab_type": "text"
      },
      "source": [
        ""
      ]
    },
    {
      "cell_type": "code",
      "metadata": {
        "id": "Gy7zsP4534rP",
        "colab_type": "code",
        "outputId": "f491f89a-65de-4866-ee6f-4188774acfd5",
        "colab": {
          "base_uri": "https://localhost:8080/",
          "height": 86
        }
      },
      "source": [
        "cv_results\n",
        "\n",
        "#{'fit_time': array([324.81443143, 322.7449398 , 325.2868309 ]),\n",
        "#'score_time': array([0.09922242, 0.10137129, 0.09655595]),\n",
        "#'test_score': array([-0.17859983, -0.17917983, -0.17860528]),\n",
        "#'train_score': array([-0.06672741, -0.06671317, -0.06716147])}"
      ],
      "execution_count": 0,
      "outputs": [
        {
          "output_type": "execute_result",
          "data": {
            "text/plain": [
              "{'fit_time': array([324.81443143, 322.7449398 , 325.2868309 ]),\n",
              " 'score_time': array([0.09922242, 0.10137129, 0.09655595]),\n",
              " 'test_score': array([-0.17859983, -0.17917983, -0.17860528]),\n",
              " 'train_score': array([-0.06672741, -0.06671317, -0.06716147])}"
            ]
          },
          "metadata": {
            "tags": []
          },
          "execution_count": 66
        }
      ]
    },
    {
      "cell_type": "markdown",
      "metadata": {
        "id": "uxXGqNCX5z2i",
        "colab_type": "text"
      },
      "source": [
        "Not bad at all! SMAPE = 0.18 but let's remember to add noise."
      ]
    },
    {
      "cell_type": "code",
      "metadata": {
        "id": "9YPILzMp5zDk",
        "colab_type": "code",
        "outputId": "600bad41-dfb1-4457-a0c7-ee1f0cf40a92",
        "colab": {
          "base_uri": "https://localhost:8080/",
          "height": 69
        }
      },
      "source": [
        "#Will take some time (around 16 mins according to cross_validate) but good to take a look at SMAPEs\n",
        "\n",
        "ypred = cross_val_predict(bestmodel, feat, targ, cv = cv, verbose = 2)"
      ],
      "execution_count": 0,
      "outputs": [
        {
          "output_type": "stream",
          "text": [
            "[Parallel(n_jobs=1)]: Using backend SequentialBackend with 1 concurrent workers.\n",
            "[Parallel(n_jobs=1)]: Done   1 out of   1 | elapsed:  5.6min remaining:    0.0s\n",
            "[Parallel(n_jobs=1)]: Done   3 out of   3 | elapsed: 16.8min finished\n"
          ],
          "name": "stderr"
        }
      ]
    },
    {
      "cell_type": "code",
      "metadata": {
        "id": "nKMHaLNjCr9r",
        "colab_type": "code",
        "outputId": "3c88c0bd-264d-4e20-b176-e1985c7e10f1",
        "colab": {
          "base_uri": "https://localhost:8080/",
          "height": 282
        }
      },
      "source": [
        "#distribution of residuals\n",
        "\n",
        "for i in range(targ.shape[1]):\n",
        "#  plt.figure()\n",
        "  plt.hist((targ[:,i] - ypred[:,i])/(targ[:,i]+0.01), bins = 30, alpha = 0.3, range = [-2,2], label = 'Bin'+str(i))\n",
        "plt.legend()"
      ],
      "execution_count": 0,
      "outputs": [
        {
          "output_type": "execute_result",
          "data": {
            "text/plain": [
              "<matplotlib.legend.Legend at 0x7ffa56b7d898>"
            ]
          },
          "metadata": {
            "tags": []
          },
          "execution_count": 69
        },
        {
          "output_type": "display_data",
          "data": {
            "image/png": "[encoded data removed]",
            "text/plain": [
              "<Figure size 432x288 with 1 Axes>"
            ]
          },
          "metadata": {
            "tags": []
          }
        }
      ]
    },
    {
      "cell_type": "code",
      "metadata": {
        "id": "TYCEVXna8T6q",
        "colab_type": "code",
        "colab": {}
      },
      "source": [
        "#\n",
        "\n",
        "smapes = np.array([2 * smape(targ[i,:],ypred[i,:]) for i in range(targ.shape[0])])"
      ],
      "execution_count": 0,
      "outputs": []
    },
    {
      "cell_type": "code",
      "metadata": {
        "id": "1Zn_O_Ut9coL",
        "colab_type": "code",
        "outputId": "a0c4cf8a-f504-43f5-83be-2b1bb4d9aa60",
        "colab": {
          "base_uri": "https://localhost:8080/",
          "height": 265
        }
      },
      "source": [
        "plt.hist(smapes, bins = 50);"
      ],
      "execution_count": 0,
      "outputs": [
        {
          "output_type": "display_data",
          "data": {
            "image/png": "[encoded data removed]",
            "text/plain": [
              "<Figure size 432x288 with 1 Axes>"
            ]
          },
          "metadata": {
            "tags": []
          }
        }
      ]
    },
    {
      "cell_type": "code",
      "metadata": {
        "id": "M7Y9DWPd9ihD",
        "colab_type": "code",
        "colab": {}
      },
      "source": [
        "from scipy import stats"
      ],
      "execution_count": 0,
      "outputs": []
    },
    {
      "cell_type": "code",
      "metadata": {
        "id": "NZzFh3yv90tv",
        "colab_type": "code",
        "outputId": "e5e10d2e-f93f-465b-8c0e-b111d3810223",
        "colab": {
          "base_uri": "https://localhost:8080/",
          "height": 54
        }
      },
      "source": [
        "stats.describe(smapes)"
      ],
      "execution_count": 0,
      "outputs": [
        {
          "output_type": "execute_result",
          "data": {
            "text/plain": [
              "DescribeResult(nobs=5851, minmax=(0.021497441137042533, 0.8465597479796513), mean=0.17867202868650603, variance=0.008090173095306819, skewness=1.5633976670425058, kurtosis=4.20434101985343)"
            ]
          },
          "metadata": {
            "tags": []
          },
          "execution_count": 73
        }
      ]
    },
    {
      "cell_type": "code",
      "metadata": {
        "id": "XHiZL-DJ92zM",
        "colab_type": "code",
        "outputId": "8d50e9d6-2b5d-4e4a-8830-401d3db0c648",
        "colab": {
          "base_uri": "https://localhost:8080/",
          "height": 34
        }
      },
      "source": [
        "np.median(smapes)"
      ],
      "execution_count": 0,
      "outputs": [
        {
          "output_type": "execute_result",
          "data": {
            "text/plain": [
              "0.16012715050675985"
            ]
          },
          "metadata": {
            "tags": []
          },
          "execution_count": 72
        }
      ]
    },
    {
      "cell_type": "markdown",
      "metadata": {
        "id": "b_1P4MZiEkc4",
        "colab_type": "text"
      },
      "source": [
        "**Next step: train model on all data. Apply to other sims. Compare with EMDs and SOM-based distances. Exciting!**"
      ]
    },
    {
      "cell_type": "code",
      "metadata": {
        "id": "LQ9y_RjHFLST",
        "colab_type": "code",
        "colab": {
          "base_uri": "https://localhost:8080/",
          "height": 139
        },
        "outputId": "9cdd2f62-e5e0-4c16-db31-af0992de3077"
      },
      "source": [
        ""
      ],
      "execution_count": 14,
      "outputs": [
        {
          "output_type": "execute_result",
          "data": {
            "text/plain": [
              "RandomForestRegressor(bootstrap=True, ccp_alpha=0.0, criterion='mse',\n",
              "                      max_depth=40, max_features=0.5, max_leaf_nodes=None,\n",
              "                      max_samples=None, min_impurity_decrease=0.0,\n",
              "                      min_impurity_split=None, min_samples_leaf=1,\n",
              "                      min_samples_split=2, min_weight_fraction_leaf=0.0,\n",
              "                      n_estimators=100, n_jobs=None, oob_score=False,\n",
              "                      random_state=None, verbose=0, warm_start=False)"
            ]
          },
          "metadata": {
            "tags": []
          },
          "execution_count": 14
        }
      ]
    },
    {
      "cell_type": "code",
      "metadata": {
        "id": "6R6QKCFJROQx",
        "colab_type": "code",
        "colab": {}
      },
      "source": [
        "mediansmapes = []\n",
        "\n",
        "for spec in spectra.values():\n",
        "  Xt = np.log10(spec[:,::2])\n",
        "  SFHpred = bestmodel.predict(Xt) #predict on all other sims\n",
        "  smapes = np.array([2 * smape(SFHs[i,:],SFHpred[i,:]) for i in range(SFHs.shape[0])])\n",
        "  mediansmapes.append(np.median(smapes))\n",
        "\n",
        "a = np.array(mediansmapes)"
      ],
      "execution_count": 0,
      "outputs": []
    },
    {
      "cell_type": "code",
      "metadata": {
        "id": "PnjN6ILxWqDA",
        "colab_type": "code",
        "colab": {}
      },
      "source": [
        "smapes = dict(zip(spectra.keys(),a))"
      ],
      "execution_count": 0,
      "outputs": []
    },
    {
      "cell_type": "code",
      "metadata": {
        "id": "XTuzEM-yROUu",
        "colab_type": "code",
        "outputId": "a92d4179-8a89-4543-cbda-ecb0c8a230f3",
        "colab": {
          "base_uri": "https://localhost:8080/",
          "height": 364
        }
      },
      "source": [
        "smapes"
      ],
      "execution_count": 0,
      "outputs": [
        {
          "output_type": "execute_result",
          "data": {
            "text/plain": [
              "{'bc03_dustA_spec': 0.24937033395796013,\n",
              " 'bc03_dustB_spec': 0.23528570291639841,\n",
              " 'bc03_dustC_spec': 0.22698198107701598,\n",
              " 'bc03_int_spec': 0.6768479949305265,\n",
              " 'bpass_dustA_spec': 0.23445830566093995,\n",
              " 'bpass_dustB_spec': 0.22758600270595597,\n",
              " 'bpass_dustC_spec': 0.22464032718642457,\n",
              " 'bpass_int_spec': 0.6810513675788217,\n",
              " 'bpass_sin_dustA_spec': 0.3236004371633811,\n",
              " 'bpass_sin_dustB_spec': 0.3455423590850195,\n",
              " 'bpass_sin_dustC_spec': 0.3614452757986425,\n",
              " 'bpass_sin_int_spec': 0.6668520016397389,\n",
              " 'fsps_dustA_spec': 0.15017376192736284,\n",
              " 'fsps_dustB_spec': 0.05683577876967202,\n",
              " 'fsps_dustC_spec': 0.14365922869303083,\n",
              " 'fsps_int_spec': 0.5393774237322849,\n",
              " 'fsps_neb_dustA_spec': 0.20594551912167294,\n",
              " 'fsps_neb_dustB_spec': 0.20121278929696634,\n",
              " 'fsps_neb_dustC_spec': 0.19966068074803198,\n",
              " 'fsps_neb_int_spec': 0.5393774237322849}"
            ]
          },
          "metadata": {
            "tags": []
          },
          "execution_count": 83
        }
      ]
    },
    {
      "cell_type": "code",
      "metadata": {
        "id": "CvXtjcMKm4EE",
        "colab_type": "code",
        "colab": {}
      },
      "source": [
        "smapesdict = {'bc03_dustA_spec': 0.24937033395796013,\n",
        " 'bc03_dustB_spec': 0.23528570291639841,\n",
        " 'bc03_dustC_spec': 0.22698198107701598,\n",
        " 'bc03_int_spec': 0.6768479949305265,\n",
        " 'bpass_dustA_spec': 0.23445830566093995,\n",
        " 'bpass_dustB_spec': 0.22758600270595597,\n",
        " 'bpass_dustC_spec': 0.22464032718642457,\n",
        " 'bpass_int_spec': 0.6810513675788217,\n",
        " 'bpass_sin_dustA_spec': 0.3236004371633811,\n",
        " 'bpass_sin_dustB_spec': 0.3455423590850195,\n",
        " 'bpass_sin_dustC_spec': 0.3614452757986425,\n",
        " 'bpass_sin_int_spec': 0.6668520016397389,\n",
        " 'fsps_dustA_spec': 0.15017376192736284,\n",
        " 'fsps_dustB_spec': 0.05683577876967202,\n",
        " 'fsps_dustC_spec': 0.14365922869303083,\n",
        " 'fsps_int_spec': 0.5393774237322849,\n",
        " 'fsps_neb_dustA_spec': 0.20594551912167294,\n",
        " 'fsps_neb_dustB_spec': 0.20121278929696634,\n",
        " 'fsps_neb_dustC_spec': 0.19966068074803198,\n",
        " 'fsps_neb_int_spec': 0.5393774237322849}"
      ],
      "execution_count": 0,
      "outputs": []
    },
    {
      "cell_type": "code",
      "metadata": {
        "id": "wfSneBsMRONg",
        "colab_type": "code",
        "colab": {}
      },
      "source": [
        "filename = 'ref_fsps_dustB_spec_EMD.txt'\n",
        "\n",
        "a = np.genfromtxt('My Drive/'+filename)"
      ],
      "execution_count": 0,
      "outputs": []
    },
    {
      "cell_type": "code",
      "metadata": {
        "id": "vkJPUlNWoYjS",
        "colab_type": "code",
        "colab": {}
      },
      "source": [
        "EMDs_ref_fsps_dustB = dict(zip(listofspec,a))  "
      ],
      "execution_count": 0,
      "outputs": []
    },
    {
      "cell_type": "code",
      "metadata": {
        "id": "8IhX2oxisWwz",
        "colab_type": "code",
        "outputId": "29afbb72-0663-4700-8df7-cd48bb752657",
        "colab": {
          "base_uri": "https://localhost:8080/",
          "height": 364
        }
      },
      "source": [
        "EMDs_ref_fsps_dustB"
      ],
      "execution_count": 18,
      "outputs": [
        {
          "output_type": "execute_result",
          "data": {
            "text/plain": [
              "{'bc03_dustA_spec': 0.01940738,\n",
              " 'bc03_dustB_spec': 0.0209037,\n",
              " 'bc03_dustC_spec': 0.02109747,\n",
              " 'bc03_int_spec': 0.06160987,\n",
              " 'bpass_dustA_spec': 0.09243587,\n",
              " 'bpass_dustB_spec': 0.10889824,\n",
              " 'bpass_dustC_spec': 0.0940256,\n",
              " 'bpass_int_spec': 0.06765797,\n",
              " 'bpass_sin_dustA_spec': 0.05079152,\n",
              " 'bpass_sin_dustB_spec': 0.05310951,\n",
              " 'bpass_sin_dustC_spec': 0.07318039,\n",
              " 'bpass_sin_int_spec': 0.13020301,\n",
              " 'fsps_dustA_spec': 0.00040344,\n",
              " 'fsps_dustB_spec': 0.0,\n",
              " 'fsps_dustC_spec': 0.00012656,\n",
              " 'fsps_int_spec': 0.02521525,\n",
              " 'fsps_neb_dustA_spec': 0.06972,\n",
              " 'fsps_neb_dustB_spec': 0.06018871,\n",
              " 'fsps_neb_dustC_spec': 0.08709233,\n",
              " 'fsps_neb_int_spec': 0.04424306}"
            ]
          },
          "metadata": {
            "tags": []
          },
          "execution_count": 18
        }
      ]
    },
    {
      "cell_type": "code",
      "metadata": {
        "id": "94q2Yq3hsaWT",
        "colab_type": "code",
        "colab": {}
      },
      "source": [
        "EMD_smapes = np.ones((len(listofspec),2))\n",
        "\n",
        "for i, el in enumerate(smapesdict.keys()):\n",
        "  (EMD_smapes[i,0],EMD_smapes[i,1]) = EMDs_ref_fsps_dustB[el],smapesdict[el] "
      ],
      "execution_count": 0,
      "outputs": []
    },
    {
      "cell_type": "code",
      "metadata": {
        "id": "9P7c98v9tCiZ",
        "colab_type": "code",
        "outputId": "25e38ce9-8f1c-491d-957b-83846534a7a4",
        "colab": {
          "base_uri": "https://localhost:8080/",
          "height": 364
        }
      },
      "source": [
        "EMD_smapes"
      ],
      "execution_count": 20,
      "outputs": [
        {
          "output_type": "execute_result",
          "data": {
            "text/plain": [
              "array([[1.94073800e-02, 2.49370334e-01],\n",
              "       [2.09037000e-02, 2.35285703e-01],\n",
              "       [2.10974700e-02, 2.26981981e-01],\n",
              "       [6.16098700e-02, 6.76847995e-01],\n",
              "       [9.24358700e-02, 2.34458306e-01],\n",
              "       [1.08898240e-01, 2.27586003e-01],\n",
              "       [9.40256000e-02, 2.24640327e-01],\n",
              "       [6.76579700e-02, 6.81051368e-01],\n",
              "       [5.07915200e-02, 3.23600437e-01],\n",
              "       [5.31095100e-02, 3.45542359e-01],\n",
              "       [7.31803900e-02, 3.61445276e-01],\n",
              "       [1.30203010e-01, 6.66852002e-01],\n",
              "       [4.03440000e-04, 1.50173762e-01],\n",
              "       [0.00000000e+00, 5.68357788e-02],\n",
              "       [1.26560000e-04, 1.43659229e-01],\n",
              "       [2.52152500e-02, 5.39377424e-01],\n",
              "       [6.97200000e-02, 2.05945519e-01],\n",
              "       [6.01887100e-02, 2.01212789e-01],\n",
              "       [8.70923300e-02, 1.99660681e-01],\n",
              "       [4.42430600e-02, 5.39377424e-01]])"
            ]
          },
          "metadata": {
            "tags": []
          },
          "execution_count": 20
        }
      ]
    },
    {
      "cell_type": "code",
      "metadata": {
        "id": "taNKvzkAm-JH",
        "colab_type": "code",
        "outputId": "9389ddd6-b17a-4632-8231-d062d8682ad7",
        "colab": {
          "base_uri": "https://localhost:8080/",
          "height": 302
        }
      },
      "source": [
        "plt.scatter(EMD_smapes[:,0], EMD_smapes[:,1])"
      ],
      "execution_count": 21,
      "outputs": [
        {
          "output_type": "execute_result",
          "data": {
            "text/plain": [
              "<matplotlib.collections.PathCollection at 0x7f2b9a6d9128>"
            ]
          },
          "metadata": {
            "tags": []
          },
          "execution_count": 21
        },
        {
          "output_type": "stream",
          "text": [
            "findfont: Font family ['sans-serif'] not found. Falling back to DejaVu Sans.\n"
          ],
          "name": "stderr"
        },
        {
          "output_type": "display_data",
          "data": {
            "image/png": "[encoded data removed]",
            "text/plain": [
              "<Figure size 432x288 with 1 Axes>"
            ]
          },
          "metadata": {
            "tags": []
          }
        }
      ]
    },
    {
      "cell_type": "code",
      "metadata": {
        "id": "tXt4-OLdtVAF",
        "colab_type": "code",
        "outputId": "c7222aa0-e76d-49ae-f505-98f14b95817d",
        "colab": {
          "base_uri": "https://localhost:8080/",
          "height": 52
        }
      },
      "source": [
        "np.corrcoef(EMD_smapes[:,0], EMD_smapes[:,1])"
      ],
      "execution_count": 22,
      "outputs": [
        {
          "output_type": "execute_result",
          "data": {
            "text/plain": [
              "array([[1.       , 0.3576188],\n",
              "       [0.3576188, 1.       ]])"
            ]
          },
          "metadata": {
            "tags": []
          },
          "execution_count": 22
        }
      ]
    },
    {
      "cell_type": "markdown",
      "metadata": {
        "id": "Vv-kk16KT_ZQ",
        "colab_type": "text"
      },
      "source": [
        "**TSNE summary: needs to be verified with another observable/algorithm/reference spectrum, but it doesn't look too promising. Maybe the mix of linear and nonlinear distances?**"
      ]
    },
    {
      "cell_type": "markdown",
      "metadata": {
        "id": "MUqnud851dG2",
        "colab_type": "text"
      },
      "source": [
        "**How about SOMs?**"
      ]
    },
    {
      "cell_type": "code",
      "metadata": {
        "id": "QaG_Ztap4NcG",
        "colab_type": "code",
        "outputId": "d712524e-a4b0-46d7-ec5c-a46b4341cfcb",
        "colab": {
          "base_uri": "https://localhost:8080/",
          "height": 364
        }
      },
      "source": [
        "listofspec"
      ],
      "execution_count": 0,
      "outputs": [
        {
          "output_type": "execute_result",
          "data": {
            "text/plain": [
              "['bc03_int_spec',\n",
              " 'bc03_dustA_spec',\n",
              " 'bc03_dustB_spec',\n",
              " 'bc03_dustC_spec',\n",
              " 'fsps_int_spec',\n",
              " 'fsps_dustA_spec',\n",
              " 'fsps_dustB_spec',\n",
              " 'fsps_dustC_spec',\n",
              " 'fsps_neb_int_spec',\n",
              " 'fsps_neb_dustA_spec',\n",
              " 'fsps_neb_dustB_spec',\n",
              " 'fsps_neb_dustC_spec',\n",
              " 'bpass_int_spec',\n",
              " 'bpass_dustA_spec',\n",
              " 'bpass_dustB_spec',\n",
              " 'bpass_dustC_spec',\n",
              " 'bpass_sin_int_spec',\n",
              " 'bpass_sin_dustA_spec',\n",
              " 'bpass_sin_dustB_spec',\n",
              " 'bpass_sin_dustC_spec']"
            ]
          },
          "metadata": {
            "tags": []
          },
          "execution_count": 46
        }
      ]
    },
    {
      "cell_type": "code",
      "metadata": {
        "id": "kWtuF3GX1hN2",
        "colab_type": "code",
        "colab": {}
      },
      "source": [
        "#These are ordered like listofspec!\n",
        "\n",
        "percentdistfromsom = np.array([[ 4.18020880e+00, -5.40621866e-01],\n",
        "       [ 6.63422030e-01,  1.39418255e-01],\n",
        "       [ 6.14433604e-01,  2.68806419e-01],\n",
        "       [ 5.98212536e-01,  2.63791374e-01],\n",
        "       [ 3.38151306e+00, -5.51654965e-01],\n",
        "       [ 3.47571027e-02, -1.12337011e-01],\n",
        "       [ 0.00000000e+00,  0.00000000e+00],\n",
        "       [-2.94110905e-03,  8.62587763e-02],\n",
        "       [ 3.38151306e+00, -5.51654965e-01],\n",
        "       [ 4.33014276e+00, -4.81444333e-02],\n",
        "       [ 2.92312849e+00,  1.00300903e-02],\n",
        "       [ 2.12673818e+00,  8.22467402e-02],\n",
        "       [ 5.24729636e+00, -5.48645938e-01],\n",
        "       [ 2.07489638e+00,  3.19959880e-01],\n",
        "       [ 2.09127213e+00,  4.29287864e-01],\n",
        "       [ 2.11650391e+00,  4.68405216e-01],\n",
        "       [ 4.78132311e+00, -1.73520562e-01],\n",
        "       [ 3.24384671e+00,  2.50752257e-01],\n",
        "       [ 3.30263296e+00,  1.95586760e-01],\n",
        "       [ 3.34286396e+00,  1.07321966e-01]])"
      ],
      "execution_count": 0,
      "outputs": []
    },
    {
      "cell_type": "code",
      "metadata": {
        "id": "WoGq45hk1oSo",
        "colab_type": "code",
        "colab": {}
      },
      "source": [
        "#percent difference in quantization error\n",
        "\n",
        "diffquanterr = dict(zip(listofspec,percentdistfromsom[:,0]))  "
      ],
      "execution_count": 0,
      "outputs": []
    },
    {
      "cell_type": "code",
      "metadata": {
        "id": "u8Rq2EpE4qd4",
        "colab_type": "code",
        "outputId": "413a8cab-280d-445c-c4de-4112a48f5f78",
        "colab": {
          "base_uri": "https://localhost:8080/",
          "height": 712
        }
      },
      "source": [
        "diffquanterr, smapesdict"
      ],
      "execution_count": 0,
      "outputs": [
        {
          "output_type": "execute_result",
          "data": {
            "text/plain": [
              "({'bc03_dustA_spec': 0.66342203,\n",
              "  'bc03_dustB_spec': 0.614433604,\n",
              "  'bc03_dustC_spec': 0.598212536,\n",
              "  'bc03_int_spec': 4.1802088,\n",
              "  'bpass_dustA_spec': 2.07489638,\n",
              "  'bpass_dustB_spec': 2.09127213,\n",
              "  'bpass_dustC_spec': 2.11650391,\n",
              "  'bpass_int_spec': 5.24729636,\n",
              "  'bpass_sin_dustA_spec': 3.24384671,\n",
              "  'bpass_sin_dustB_spec': 3.30263296,\n",
              "  'bpass_sin_dustC_spec': 3.34286396,\n",
              "  'bpass_sin_int_spec': 4.78132311,\n",
              "  'fsps_dustA_spec': 0.0347571027,\n",
              "  'fsps_dustB_spec': 0.0,\n",
              "  'fsps_dustC_spec': -0.00294110905,\n",
              "  'fsps_int_spec': 3.38151306,\n",
              "  'fsps_neb_dustA_spec': 4.33014276,\n",
              "  'fsps_neb_dustB_spec': 2.92312849,\n",
              "  'fsps_neb_dustC_spec': 2.12673818,\n",
              "  'fsps_neb_int_spec': 3.38151306},\n",
              " {'bc03_dustA_spec': 0.24937033395796013,\n",
              "  'bc03_dustB_spec': 0.23528570291639841,\n",
              "  'bc03_dustC_spec': 0.22698198107701598,\n",
              "  'bc03_int_spec': 0.6768479949305265,\n",
              "  'bpass_dustA_spec': 0.23445830566093995,\n",
              "  'bpass_dustB_spec': 0.22758600270595597,\n",
              "  'bpass_dustC_spec': 0.22464032718642457,\n",
              "  'bpass_int_spec': 0.6810513675788217,\n",
              "  'bpass_sin_dustA_spec': 0.3236004371633811,\n",
              "  'bpass_sin_dustB_spec': 0.3455423590850195,\n",
              "  'bpass_sin_dustC_spec': 0.3614452757986425,\n",
              "  'bpass_sin_int_spec': 0.6668520016397389,\n",
              "  'fsps_dustA_spec': 0.15017376192736284,\n",
              "  'fsps_dustB_spec': 0.05683577876967202,\n",
              "  'fsps_dustC_spec': 0.14365922869303083,\n",
              "  'fsps_int_spec': 0.5393774237322849,\n",
              "  'fsps_neb_dustA_spec': 0.20594551912167294,\n",
              "  'fsps_neb_dustB_spec': 0.20121278929696634,\n",
              "  'fsps_neb_dustC_spec': 0.19966068074803198,\n",
              "  'fsps_neb_int_spec': 0.5393774237322849})"
            ]
          },
          "metadata": {
            "tags": []
          },
          "execution_count": 49
        }
      ]
    },
    {
      "cell_type": "code",
      "metadata": {
        "id": "en0a2pcE4_dD",
        "colab_type": "code",
        "colab": {}
      },
      "source": [
        "QE_smapes = np.ones((len(listofspec),2))\n",
        "\n",
        "for i, el in enumerate(smapesdict.keys()):\n",
        "  (QE_smapes[i,0],QE_smapes[i,1]) = diffquanterr[el],smapesdict[el] "
      ],
      "execution_count": 0,
      "outputs": []
    },
    {
      "cell_type": "code",
      "metadata": {
        "id": "hWhAe8p-5JOg",
        "colab_type": "code",
        "outputId": "9ad31836-3085-402c-d84f-25d5943fabd0",
        "colab": {
          "base_uri": "https://localhost:8080/",
          "height": 282
        }
      },
      "source": [
        "plt.scatter(QE_smapes[:,0], QE_smapes[:,1])"
      ],
      "execution_count": 0,
      "outputs": [
        {
          "output_type": "execute_result",
          "data": {
            "text/plain": [
              "<matplotlib.collections.PathCollection at 0x7faaa89f5f28>"
            ]
          },
          "metadata": {
            "tags": []
          },
          "execution_count": 51
        },
        {
          "output_type": "display_data",
          "data": {
            "image/png": "[encoded data removed]",
            "text/plain": [
              "<Figure size 432x288 with 1 Axes>"
            ]
          },
          "metadata": {
            "tags": []
          }
        }
      ]
    },
    {
      "cell_type": "code",
      "metadata": {
        "id": "jKe8Pj1C5Qdj",
        "colab_type": "code",
        "outputId": "4a41a631-3aa9-4dbd-c226-464e116a1a94",
        "colab": {
          "base_uri": "https://localhost:8080/",
          "height": 52
        }
      },
      "source": [
        "np.corrcoef(QE_smapes[:,0], QE_smapes[:,1])"
      ],
      "execution_count": 0,
      "outputs": [
        {
          "output_type": "execute_result",
          "data": {
            "text/plain": [
              "array([[1.        , 0.78404634],\n",
              "       [0.78404634, 1.        ]])"
            ]
          },
          "metadata": {
            "tags": []
          },
          "execution_count": 52
        }
      ]
    },
    {
      "cell_type": "markdown",
      "metadata": {
        "id": "ZFQIRvJDUgPa",
        "colab_type": "text"
      },
      "source": [
        "**SOM Summary: appears to be more promising, needs same verifications as TSNE**"
      ]
    },
    {
      "cell_type": "markdown",
      "metadata": {
        "id": "glyGCK4XDTCH",
        "colab_type": "text"
      },
      "source": [
        "**Let's see what happens for ref spectrum = bc03, dust A**\n",
        "\n"
      ]
    },
    {
      "cell_type": "code",
      "metadata": {
        "colab_type": "code",
        "id": "ZXplMPVwwkuh",
        "colab": {}
      },
      "source": [
        "ref_spec = spectra['bc03_dustA_spec']"
      ],
      "execution_count": 0,
      "outputs": []
    },
    {
      "cell_type": "markdown",
      "metadata": {
        "colab_type": "text",
        "id": "9AVBk-0SwkvF"
      },
      "source": [
        "Let's log those spectra"
      ]
    },
    {
      "cell_type": "code",
      "metadata": {
        "colab_type": "code",
        "id": "cnk4RbJQwkvH",
        "colab": {}
      },
      "source": [
        "X = np.log10(ref_spec)"
      ],
      "execution_count": 0,
      "outputs": []
    },
    {
      "cell_type": "code",
      "metadata": {
        "colab_type": "code",
        "outputId": "0ee1d5b1-4a41-4ebf-c98f-7678081cc90c",
        "id": "is8a0aklwkvR",
        "colab": {
          "base_uri": "https://localhost:8080/",
          "height": 34
        }
      },
      "source": [
        "X.shape"
      ],
      "execution_count": 10,
      "outputs": [
        {
          "output_type": "execute_result",
          "data": {
            "text/plain": [
              "(6473, 4601)"
            ]
          },
          "metadata": {
            "tags": []
          },
          "execution_count": 10
        }
      ]
    },
    {
      "cell_type": "code",
      "metadata": {
        "colab_type": "code",
        "id": "HZGKOVYKwkva",
        "colab": {}
      },
      "source": [
        "np.random.seed(10)\n",
        "sel = np.random.choice(X.shape[0], 650) #make it smaller; technically should re-run optimization with seed fixed"
      ],
      "execution_count": 0,
      "outputs": []
    },
    {
      "cell_type": "code",
      "metadata": {
        "colab_type": "code",
        "id": "xvSgPZ04wkvh",
        "colab": {}
      },
      "source": [
        "model = RandomForestRegressor()"
      ],
      "execution_count": 0,
      "outputs": []
    },
    {
      "cell_type": "code",
      "metadata": {
        "colab_type": "code",
        "id": "rVNavBDHwkvo",
        "colab": {}
      },
      "source": [
        "cv = KFold(shuffle = True, n_splits=3)"
      ],
      "execution_count": 0,
      "outputs": []
    },
    {
      "cell_type": "code",
      "metadata": {
        "colab_type": "code",
        "id": "-1ZJD86Owzei",
        "colab": {}
      },
      "source": [
        "allindexes = np.arange(X.shape[0])\n",
        "\n",
        "ind = allindexes[~np.isin(allindexes,sel)]\n",
        "\n",
        "feat = X[ind,::2]\n",
        "\n",
        "targ = SFHs[ind]"
      ],
      "execution_count": 0,
      "outputs": []
    },
    {
      "cell_type": "code",
      "metadata": {
        "colab_type": "code",
        "id": "xv6tYW0fwzfA",
        "colab": {}
      },
      "source": [
        "bestmodel = RandomForestRegressor(max_depth = 40, max_features = 0.5)"
      ],
      "execution_count": 0,
      "outputs": []
    },
    {
      "cell_type": "code",
      "metadata": {
        "colab_type": "code",
        "id": "5JXJbVIlwzfK",
        "colab": {}
      },
      "source": [
        "bestmodel.fit(X[:,::2], SFHs)"
      ],
      "execution_count": 0,
      "outputs": []
    },
    {
      "cell_type": "code",
      "metadata": {
        "colab_type": "code",
        "id": "0UtYPxGhxNS7",
        "colab": {}
      },
      "source": [
        "mediansmapes = []\n",
        "\n",
        "for spec in spectra.values():\n",
        "  Xt = np.log10(spec[:,::2])\n",
        "  SFHpred = bestmodel.predict(Xt) #predict on all other sims\n",
        "  smapes = np.array([2 * smape(SFHs[i,:],SFHpred[i,:]) for i in range(SFHs.shape[0])])\n",
        "  mediansmapes.append(np.median(smapes))\n",
        "\n",
        "a = np.array(mediansmapes)"
      ],
      "execution_count": 0,
      "outputs": []
    },
    {
      "cell_type": "code",
      "metadata": {
        "colab_type": "code",
        "id": "Tays2y1oxNTd",
        "colab": {}
      },
      "source": [
        "smapes = dict(zip(spectra.keys(),a))"
      ],
      "execution_count": 0,
      "outputs": []
    },
    {
      "cell_type": "code",
      "metadata": {
        "colab_type": "code",
        "outputId": "eafbe393-e760-49c3-b7a0-7d40bcf830d3",
        "id": "8abYhrfhxNTm",
        "colab": {
          "base_uri": "https://localhost:8080/",
          "height": 364
        }
      },
      "source": [
        "smapes"
      ],
      "execution_count": 21,
      "outputs": [
        {
          "output_type": "execute_result",
          "data": {
            "text/plain": [
              "{'bc03_dustA_spec': 0.05805241119841847,\n",
              " 'bc03_dustB_spec': 0.14940084848445856,\n",
              " 'bc03_dustC_spec': 0.15385214161981647,\n",
              " 'bc03_int_spec': 0.5175300071929866,\n",
              " 'bpass_dustA_spec': 0.28565268760805934,\n",
              " 'bpass_dustB_spec': 0.2694501060600998,\n",
              " 'bpass_dustC_spec': 0.25818414518346955,\n",
              " 'bpass_int_spec': 0.7061046186606078,\n",
              " 'bpass_sin_dustA_spec': 0.29659311424578083,\n",
              " 'bpass_sin_dustB_spec': 0.3015134095866088,\n",
              " 'bpass_sin_dustC_spec': 0.3064039240052663,\n",
              " 'bpass_sin_int_spec': 0.6879383878397539,\n",
              " 'fsps_dustA_spec': 0.1880940638794513,\n",
              " 'fsps_dustB_spec': 0.18721928615332847,\n",
              " 'fsps_dustC_spec': 0.18834118107332087,\n",
              " 'fsps_int_spec': 0.5271486599631381,\n",
              " 'fsps_neb_dustA_spec': 0.19894540409499165,\n",
              " 'fsps_neb_dustB_spec': 0.20186479145872868,\n",
              " 'fsps_neb_dustC_spec': 0.2053338505543621,\n",
              " 'fsps_neb_int_spec': 0.5271486599631381}"
            ]
          },
          "metadata": {
            "tags": []
          },
          "execution_count": 21
        }
      ]
    },
    {
      "cell_type": "code",
      "metadata": {
        "colab_type": "code",
        "id": "qOjyIap6xNT5",
        "colab": {}
      },
      "source": [
        "filename = 'ref_bc03_dustA_spec_EMD.txt'\n",
        "\n",
        "b = np.genfromtxt('My Drive/'+filename)"
      ],
      "execution_count": 0,
      "outputs": []
    },
    {
      "cell_type": "code",
      "metadata": {
        "colab_type": "code",
        "id": "w8Vc6JidxNUB",
        "colab": {}
      },
      "source": [
        "EMDs_ref_bc03_dustA = dict(zip(listofspec,b))  "
      ],
      "execution_count": 0,
      "outputs": []
    },
    {
      "cell_type": "code",
      "metadata": {
        "colab_type": "code",
        "outputId": "8518c4f1-702e-45e6-bb0a-05f86b1b6751",
        "id": "EepplWPuxNUL",
        "colab": {
          "base_uri": "https://localhost:8080/",
          "height": 364
        }
      },
      "source": [
        "EMDs_ref_bc03_dustA"
      ],
      "execution_count": 24,
      "outputs": [
        {
          "output_type": "execute_result",
          "data": {
            "text/plain": [
              "{'bc03_dustA_spec': 0.019407382,\n",
              " 'bc03_dustB_spec': 0.0209037049,\n",
              " 'bc03_dustC_spec': 0.0210974658,\n",
              " 'bc03_int_spec': 0.0616098744,\n",
              " 'bpass_dustA_spec': 0.0924358731,\n",
              " 'bpass_dustB_spec': 0.108898242,\n",
              " 'bpass_dustC_spec': 0.0940255978,\n",
              " 'bpass_int_spec': 0.067657967,\n",
              " 'bpass_sin_dustA_spec': 0.0507915163,\n",
              " 'bpass_sin_dustB_spec': 0.0531095064,\n",
              " 'bpass_sin_dustC_spec': 0.0731803904,\n",
              " 'bpass_sin_int_spec': 0.1302030082,\n",
              " 'fsps_dustA_spec': 0.0004034421,\n",
              " 'fsps_dustB_spec': 0.0,\n",
              " 'fsps_dustC_spec': 0.0001265624,\n",
              " 'fsps_int_spec': 0.0252152481,\n",
              " 'fsps_neb_dustA_spec': 0.0697199964,\n",
              " 'fsps_neb_dustB_spec': 0.0601887055,\n",
              " 'fsps_neb_dustC_spec': 0.0870923324,\n",
              " 'fsps_neb_int_spec': 0.0442430615}"
            ]
          },
          "metadata": {
            "tags": []
          },
          "execution_count": 24
        }
      ]
    },
    {
      "cell_type": "code",
      "metadata": {
        "colab_type": "code",
        "id": "47mhNZZYxNUS",
        "colab": {}
      },
      "source": [
        "EMD_smapes = np.ones((len(listofspec),2))\n",
        "\n",
        "for i, el in enumerate(smapes.keys()):\n",
        "  (EMD_smapes[i,0],EMD_smapes[i,1]) = EMDs_ref_bc03_dustA[el],smapes[el] "
      ],
      "execution_count": 0,
      "outputs": []
    },
    {
      "cell_type": "code",
      "metadata": {
        "colab_type": "code",
        "outputId": "a076f505-bfde-42df-f76b-b4da98bacae0",
        "id": "y6YizJ0dxNUZ",
        "colab": {
          "base_uri": "https://localhost:8080/",
          "height": 364
        }
      },
      "source": [
        "EMD_smapes"
      ],
      "execution_count": 27,
      "outputs": [
        {
          "output_type": "execute_result",
          "data": {
            "text/plain": [
              "array([[6.16098744e-02, 5.17530007e-01],\n",
              "       [1.94073820e-02, 5.80524112e-02],\n",
              "       [2.09037049e-02, 1.49400848e-01],\n",
              "       [2.10974658e-02, 1.53852142e-01],\n",
              "       [2.52152481e-02, 5.27148660e-01],\n",
              "       [4.03442100e-04, 1.88094064e-01],\n",
              "       [0.00000000e+00, 1.87219286e-01],\n",
              "       [1.26562400e-04, 1.88341181e-01],\n",
              "       [4.42430615e-02, 5.27148660e-01],\n",
              "       [6.97199964e-02, 1.98945404e-01],\n",
              "       [6.01887055e-02, 2.01864791e-01],\n",
              "       [8.70923324e-02, 2.05333851e-01],\n",
              "       [6.76579670e-02, 7.06104619e-01],\n",
              "       [9.24358731e-02, 2.85652688e-01],\n",
              "       [1.08898242e-01, 2.69450106e-01],\n",
              "       [9.40255978e-02, 2.58184145e-01],\n",
              "       [1.30203008e-01, 6.87938388e-01],\n",
              "       [5.07915163e-02, 2.96593114e-01],\n",
              "       [5.31095064e-02, 3.01513410e-01],\n",
              "       [7.31803904e-02, 3.06403924e-01]])"
            ]
          },
          "metadata": {
            "tags": []
          },
          "execution_count": 27
        }
      ]
    },
    {
      "cell_type": "code",
      "metadata": {
        "colab_type": "code",
        "outputId": "d61025bf-c2a2-4b9d-d2fc-01f20ffb5f83",
        "id": "UMQA4kjpxNUk",
        "colab": {
          "base_uri": "https://localhost:8080/",
          "height": 592
        }
      },
      "source": [
        "plt.figure(figsize=(15,10))\n",
        "\n",
        "plt.scatter(EMD_smapes[:,0], EMD_smapes[:,1])#], label = el)\n",
        "\n",
        "for i, el in enumerate(smapes.keys()):\n",
        "    plt.annotate(el, (EMD_smapes[i,0], EMD_smapes[i,1]))\n",
        "  "
      ],
      "execution_count": 37,
      "outputs": [
        {
          "output_type": "display_data",
          "data": {
            "image/png": "[encoded data removed]",
            "text/plain": [
              "<Figure size 1080x720 with 1 Axes>"
            ]
          },
          "metadata": {
            "tags": []
          }
        }
      ]
    },
    {
      "cell_type": "code",
      "metadata": {
        "id": "YsvhFs6mw0cQ",
        "colab_type": "code",
        "colab": {
          "base_uri": "https://localhost:8080/",
          "height": 52
        },
        "outputId": "8c3d7b42-14ee-4ade-ecad-1151ac0df433"
      },
      "source": [
        "np.corrcoef(EMD_smapes[:,0], EMD_smapes[:,1])"
      ],
      "execution_count": 29,
      "outputs": [
        {
          "output_type": "execute_result",
          "data": {
            "text/plain": [
              "array([[1.       , 0.4219836],\n",
              "       [0.4219836, 1.       ]])"
            ]
          },
          "metadata": {
            "tags": []
          },
          "execution_count": 29
        }
      ]
    },
    {
      "cell_type": "code",
      "metadata": {
        "id": "e54wmi9Pw0fX",
        "colab_type": "code",
        "colab": {}
      },
      "source": [
        ""
      ],
      "execution_count": 0,
      "outputs": []
    },
    {
      "cell_type": "code",
      "metadata": {
        "id": "g-ZFd72Tw0kH",
        "colab_type": "code",
        "colab": {}
      },
      "source": [
        ""
      ],
      "execution_count": 0,
      "outputs": []
    },
    {
      "cell_type": "code",
      "metadata": {
        "id": "A6vTdh9Aw0nV",
        "colab_type": "code",
        "colab": {}
      },
      "source": [
        ""
      ],
      "execution_count": 0,
      "outputs": []
    },
    {
      "cell_type": "code",
      "metadata": {
        "id": "XzANSJdXw0r6",
        "colab_type": "code",
        "colab": {}
      },
      "source": [
        ""
      ],
      "execution_count": 0,
      "outputs": []
    },
    {
      "cell_type": "code",
      "metadata": {
        "id": "kTpDFHeXw0qH",
        "colab_type": "code",
        "colab": {}
      },
      "source": [
        ""
      ],
      "execution_count": 0,
      "outputs": []
    },
    {
      "cell_type": "code",
      "metadata": {
        "id": "xFdpcEWHw0ie",
        "colab_type": "code",
        "colab": {}
      },
      "source": [
        ""
      ],
      "execution_count": 0,
      "outputs": []
    },
    {
      "cell_type": "code",
      "metadata": {
        "id": "lCoAf_rZA3Yz",
        "colab_type": "code",
        "outputId": "97060537-5f44-4a30-daf3-c3f6e7913251",
        "colab": {
          "base_uri": "https://localhost:8080/",
          "height": 315
        }
      },
      "source": [
        "#Do not run: cv with r2 score\n",
        "\n",
        "#Results\n",
        "\n",
        "#{'fit_time': array([53.27171755, 52.12764168, 53.28606129, 53.26166272]),\n",
        "# 'score_time': array([0.01601958, 0.0146246 , 0.01494336, 0.01519322]),\n",
        "# 'test_score': array([0.81165198, 0.87030236, 0.86739246, 0.88866265]),\n",
        "# 'train_score': array([0.98043601, 0.97968621, 0.98108432, 0.97960353])}\n",
        "\n",
        "cv = KFold(shuffle = True, n_splits=4)\n",
        "\n",
        "cv_results = cross_validate(model, X[sel,::2], targets,  cv = cv, return_train_score=True);"
      ],
      "execution_count": 0,
      "outputs": [
        {
          "output_type": "stream",
          "text": [
            "/usr/local/lib/python3.6/dist-packages/sklearn/base.py:434: FutureWarning: The default value of multioutput (not exposed in score method) will change from 'variance_weighted' to 'uniform_average' in 0.23 to keep consistent with 'metrics.r2_score'. To specify the default value manually and avoid the warning, please either call 'metrics.r2_score' directly or make a custom scorer with 'metrics.make_scorer' (the built-in scorer 'r2' uses multioutput='uniform_average').\n",
            "  \"multioutput='uniform_average').\", FutureWarning)\n",
            "/usr/local/lib/python3.6/dist-packages/sklearn/base.py:434: FutureWarning: The default value of multioutput (not exposed in score method) will change from 'variance_weighted' to 'uniform_average' in 0.23 to keep consistent with 'metrics.r2_score'. To specify the default value manually and avoid the warning, please either call 'metrics.r2_score' directly or make a custom scorer with 'metrics.make_scorer' (the built-in scorer 'r2' uses multioutput='uniform_average').\n",
            "  \"multioutput='uniform_average').\", FutureWarning)\n",
            "/usr/local/lib/python3.6/dist-packages/sklearn/base.py:434: FutureWarning: The default value of multioutput (not exposed in score method) will change from 'variance_weighted' to 'uniform_average' in 0.23 to keep consistent with 'metrics.r2_score'. To specify the default value manually and avoid the warning, please either call 'metrics.r2_score' directly or make a custom scorer with 'metrics.make_scorer' (the built-in scorer 'r2' uses multioutput='uniform_average').\n",
            "  \"multioutput='uniform_average').\", FutureWarning)\n",
            "/usr/local/lib/python3.6/dist-packages/sklearn/base.py:434: FutureWarning: The default value of multioutput (not exposed in score method) will change from 'variance_weighted' to 'uniform_average' in 0.23 to keep consistent with 'metrics.r2_score'. To specify the default value manually and avoid the warning, please either call 'metrics.r2_score' directly or make a custom scorer with 'metrics.make_scorer' (the built-in scorer 'r2' uses multioutput='uniform_average').\n",
            "  \"multioutput='uniform_average').\", FutureWarning)\n",
            "/usr/local/lib/python3.6/dist-packages/sklearn/base.py:434: FutureWarning: The default value of multioutput (not exposed in score method) will change from 'variance_weighted' to 'uniform_average' in 0.23 to keep consistent with 'metrics.r2_score'. To specify the default value manually and avoid the warning, please either call 'metrics.r2_score' directly or make a custom scorer with 'metrics.make_scorer' (the built-in scorer 'r2' uses multioutput='uniform_average').\n",
            "  \"multioutput='uniform_average').\", FutureWarning)\n",
            "/usr/local/lib/python3.6/dist-packages/sklearn/base.py:434: FutureWarning: The default value of multioutput (not exposed in score method) will change from 'variance_weighted' to 'uniform_average' in 0.23 to keep consistent with 'metrics.r2_score'. To specify the default value manually and avoid the warning, please either call 'metrics.r2_score' directly or make a custom scorer with 'metrics.make_scorer' (the built-in scorer 'r2' uses multioutput='uniform_average').\n",
            "  \"multioutput='uniform_average').\", FutureWarning)\n",
            "/usr/local/lib/python3.6/dist-packages/sklearn/base.py:434: FutureWarning: The default value of multioutput (not exposed in score method) will change from 'variance_weighted' to 'uniform_average' in 0.23 to keep consistent with 'metrics.r2_score'. To specify the default value manually and avoid the warning, please either call 'metrics.r2_score' directly or make a custom scorer with 'metrics.make_scorer' (the built-in scorer 'r2' uses multioutput='uniform_average').\n",
            "  \"multioutput='uniform_average').\", FutureWarning)\n",
            "/usr/local/lib/python3.6/dist-packages/sklearn/base.py:434: FutureWarning: The default value of multioutput (not exposed in score method) will change from 'variance_weighted' to 'uniform_average' in 0.23 to keep consistent with 'metrics.r2_score'. To specify the default value manually and avoid the warning, please either call 'metrics.r2_score' directly or make a custom scorer with 'metrics.make_scorer' (the built-in scorer 'r2' uses multioutput='uniform_average').\n",
            "  \"multioutput='uniform_average').\", FutureWarning)\n"
          ],
          "name": "stderr"
        }
      ]
    },
    {
      "cell_type": "code",
      "metadata": {
        "id": "fH6A0URkBNae",
        "colab_type": "code",
        "outputId": "85dbad87-6e80-4ad9-e171-90d27c705430",
        "colab": {
          "base_uri": "https://localhost:8080/",
          "height": 86
        }
      },
      "source": [
        "cv_results"
      ],
      "execution_count": 0,
      "outputs": [
        {
          "output_type": "execute_result",
          "data": {
            "text/plain": [
              "{'fit_time': array([53.27171755, 52.12764168, 53.28606129, 53.26166272]),\n",
              " 'score_time': array([0.01601958, 0.0146246 , 0.01494336, 0.01519322]),\n",
              " 'test_score': array([0.81165198, 0.87030236, 0.86739246, 0.88866265]),\n",
              " 'train_score': array([0.98043601, 0.97968621, 0.98108432, 0.97960353])}"
            ]
          },
          "metadata": {
            "tags": []
          },
          "execution_count": 68
        }
      ]
    },
    {
      "cell_type": "code",
      "metadata": {
        "id": "4wCHM5ANEWo6",
        "colab_type": "code",
        "colab": {}
      },
      "source": [
        "#Do not run, CV with neg med abs err\n",
        "\n",
        "#{'fit_time': array([54.1445663 , 52.86333227, 53.88323212, 54.79486084]),\n",
        "# 'score_time': array([0.01488876, 0.01699281, 0.01373649, 0.01461649]),\n",
        "# 'test_score': array([-0.40613118, -0.46373731, -0.40043115, -0.37756717]),\n",
        "# 'train_score': array([-0.14555735, -0.14599829, -0.15410287, -0.1604189 ])}\n",
        "\n",
        "cv_results = cross_validate(model, X[sel,::2], targets,  cv = cv, scoring = 'neg_median_absolute_error', return_train_score=True);"
      ],
      "execution_count": 0,
      "outputs": []
    },
    {
      "cell_type": "code",
      "metadata": {
        "id": "fRZohbREGP3C",
        "colab_type": "code",
        "outputId": "3cb10bc4-4253-4b29-c59f-ed417685a178",
        "colab": {
          "base_uri": "https://localhost:8080/",
          "height": 86
        }
      },
      "source": [
        "cv_results"
      ],
      "execution_count": 0,
      "outputs": [
        {
          "output_type": "execute_result",
          "data": {
            "text/plain": [
              "{'fit_time': array([54.1445663 , 52.86333227, 53.88323212, 54.79486084]),\n",
              " 'score_time': array([0.01488876, 0.01699281, 0.01373649, 0.01461649]),\n",
              " 'test_score': array([-0.40613118, -0.46373731, -0.40043115, -0.37756717]),\n",
              " 'train_score': array([-0.14555735, -0.14599829, -0.15410287, -0.1604189 ])}"
            ]
          },
          "metadata": {
            "tags": []
          },
          "execution_count": 70
        }
      ]
    },
    {
      "cell_type": "code",
      "metadata": {
        "id": "Z2OeDfEKiXFL",
        "colab_type": "code",
        "colab": {}
      },
      "source": [
        ""
      ],
      "execution_count": 0,
      "outputs": []
    },
    {
      "cell_type": "code",
      "metadata": {
        "id": "aMI5F0b8i0D5",
        "colab_type": "code",
        "outputId": "3b4ea814-c3e6-4979-e54f-e6380bf101bf",
        "colab": {
          "base_uri": "https://localhost:8080/",
          "height": 52
        }
      },
      "source": [
        "parameters = {'max_depth':[20,40], \\\n",
        "              'max_features': [0.25,0.5,1.0], 'n_estimators':[100,200]}\n",
        "nmodels = np.product([len(el) for el in parameters.values()])\n",
        "\n",
        "model = GridSearchCV(RandomForestRegressor(), parameters, cv = cv, \\\n",
        "                     scoring = smape_scorer, return_train_score = True, \\\n",
        "    verbose = 2, n_jobs = 4)\n",
        "model.fit(X[sel,::2], targets)\n",
        "print('Best params, best score:', \"{:.4f}\".format(model.best_score_), model.best_params_),\n",
        "#print('Time per model (s):', \"{:.4f}\".format((stop-start)/float(nmodels*4)))"
      ],
      "execution_count": 0,
      "outputs": [
        {
          "output_type": "stream",
          "text": [
            "Fitting 3 folds for each of 12 candidates, totalling 36 fits\n"
          ],
          "name": "stdout"
        },
        {
          "output_type": "stream",
          "text": [
            "[Parallel(n_jobs=4)]: Using backend LokyBackend with 4 concurrent workers.\n"
          ],
          "name": "stderr"
        }
      ]
    },
    {
      "cell_type": "code",
      "metadata": {
        "id": "hN4h8hLUHJhQ",
        "colab_type": "code",
        "outputId": "5711e81a-14fa-42f5-c006-b8410e526548",
        "colab": {
          "base_uri": "https://localhost:8080/",
          "height": 121
        }
      },
      "source": [
        "parameters = {'max_depth':[8,12,20], \\\n",
        "              'max_features': ['auto','sqrt'], 'n_estimators':[100,200]}\n",
        "nmodels = np.product([len(el) for el in parameters.values()])\n",
        "\n",
        "model = GridSearchCV(RandomForestRegressor(), parameters, cv = cv, \\\n",
        "                     scoring = 'neg_median_absolute_error', return_train_score = True, \\\n",
        "    verbose = 2, n_jobs = 4)\n",
        "start = time.time()\n",
        "model.fit(X[sel,::2], targets)\n",
        "stop = time.time()\n",
        "print('Best params, best score:', \"{:.4f}\".format(model.best_score_), model.best_params_),\n",
        "print('Time per model (s):', \"{:.4f}\".format((stop-start)/float(nmodels*4)))"
      ],
      "execution_count": 0,
      "outputs": [
        {
          "output_type": "stream",
          "text": [
            "Fitting 4 folds for each of 12 candidates, totalling 48 fits\n"
          ],
          "name": "stdout"
        },
        {
          "output_type": "stream",
          "text": [
            "[Parallel(n_jobs=4)]: Using backend LokyBackend with 4 concurrent workers.\n",
            "[Parallel(n_jobs=4)]: Done  33 tasks      | elapsed: 19.4min\n",
            "[Parallel(n_jobs=4)]: Done  48 out of  48 | elapsed: 25.9min finished\n"
          ],
          "name": "stderr"
        },
        {
          "output_type": "stream",
          "text": [
            "Best params, best score: -0.3992 {'max_depth': 20, 'max_features': 'auto', 'n_estimators': 200}\n",
            "Time per model (s): 35.4968\n"
          ],
          "name": "stdout"
        }
      ]
    },
    {
      "cell_type": "code",
      "metadata": {
        "id": "kS3FPRfYLkw2",
        "colab_type": "code",
        "outputId": "e69ab77c-e5cf-4737-e190-ead3203eced1",
        "colab": {
          "base_uri": "https://localhost:8080/",
          "height": 1000
        }
      },
      "source": [
        "model.cv_results_"
      ],
      "execution_count": 0,
      "outputs": [
        {
          "output_type": "execute_result",
          "data": {
            "text/plain": [
              "{'mean_fit_time': array([142.08366597, 281.02833021,   3.62773597,   7.20128304,\n",
              "        175.92155129, 354.93943012,   4.40083194,   8.71038419,\n",
              "        185.85670829, 371.20518613,   4.79526126,   8.64055562]),\n",
              " 'mean_score_time': array([0.03765577, 0.06617844, 0.04712707, 0.07398534, 0.0460602 ,\n",
              "        0.08255142, 0.04830873, 0.08664465, 0.04365295, 0.09512132,\n",
              "        0.05063039, 0.0543642 ]),\n",
              " 'mean_test_score': array([-0.44103841, -0.44494769, -0.48930196, -0.48785785, -0.40170052,\n",
              "        -0.40611576, -0.44119677, -0.44180372, -0.4014455 , -0.39918231,\n",
              "        -0.44515741, -0.43259462]),\n",
              " 'mean_train_score': array([-0.31310871, -0.31072779, -0.35199807, -0.35286472, -0.17899306,\n",
              "        -0.18147997, -0.20830142, -0.20607399, -0.14763381, -0.14861138,\n",
              "        -0.16305295, -0.1631004 ]),\n",
              " 'param_max_depth': masked_array(data=[8, 8, 8, 8, 12, 12, 12, 12, 20, 20, 20, 20],\n",
              "              mask=[False, False, False, False, False, False, False, False,\n",
              "                    False, False, False, False],\n",
              "        fill_value='?',\n",
              "             dtype=object),\n",
              " 'param_max_features': masked_array(data=['auto', 'auto', 'sqrt', 'sqrt', 'auto', 'auto', 'sqrt',\n",
              "                    'sqrt', 'auto', 'auto', 'sqrt', 'sqrt'],\n",
              "              mask=[False, False, False, False, False, False, False, False,\n",
              "                    False, False, False, False],\n",
              "        fill_value='?',\n",
              "             dtype=object),\n",
              " 'param_n_estimators': masked_array(data=[100, 200, 100, 200, 100, 200, 100, 200, 100, 200, 100,\n",
              "                    200],\n",
              "              mask=[False, False, False, False, False, False, False, False,\n",
              "                    False, False, False, False],\n",
              "        fill_value='?',\n",
              "             dtype=object),\n",
              " 'params': [{'max_depth': 8, 'max_features': 'auto', 'n_estimators': 100},\n",
              "  {'max_depth': 8, 'max_features': 'auto', 'n_estimators': 200},\n",
              "  {'max_depth': 8, 'max_features': 'sqrt', 'n_estimators': 100},\n",
              "  {'max_depth': 8, 'max_features': 'sqrt', 'n_estimators': 200},\n",
              "  {'max_depth': 12, 'max_features': 'auto', 'n_estimators': 100},\n",
              "  {'max_depth': 12, 'max_features': 'auto', 'n_estimators': 200},\n",
              "  {'max_depth': 12, 'max_features': 'sqrt', 'n_estimators': 100},\n",
              "  {'max_depth': 12, 'max_features': 'sqrt', 'n_estimators': 200},\n",
              "  {'max_depth': 20, 'max_features': 'auto', 'n_estimators': 100},\n",
              "  {'max_depth': 20, 'max_features': 'auto', 'n_estimators': 200},\n",
              "  {'max_depth': 20, 'max_features': 'sqrt', 'n_estimators': 100},\n",
              "  {'max_depth': 20, 'max_features': 'sqrt', 'n_estimators': 200}],\n",
              " 'rank_test_score': array([ 6,  9, 12, 11,  3,  4,  7,  8,  2,  1, 10,  5], dtype=int32),\n",
              " 'split0_test_score': array([-0.46484647, -0.46342732, -0.49423409, -0.48989482, -0.41018492,\n",
              "        -0.41869222, -0.4345635 , -0.44368189, -0.40677706, -0.4193301 ,\n",
              "        -0.44197802, -0.44807825]),\n",
              " 'split0_train_score': array([-0.31801827, -0.31626469, -0.35988298, -0.35760819, -0.17923291,\n",
              "        -0.18691787, -0.20667382, -0.20850515, -0.14874094, -0.14872055,\n",
              "        -0.16564796, -0.16867828]),\n",
              " 'split1_test_score': array([-0.44659227, -0.4518033 , -0.49208841, -0.49309406, -0.40590785,\n",
              "        -0.40883807, -0.43857738, -0.44002382, -0.41599823, -0.40464731,\n",
              "        -0.45249404, -0.42718316]),\n",
              " 'split1_train_score': array([-0.3224736 , -0.31481954, -0.34609587, -0.35160753, -0.17359326,\n",
              "        -0.17500334, -0.20467345, -0.20253119, -0.14132296, -0.14119352,\n",
              "        -0.15492636, -0.15405285]),\n",
              " 'split2_test_score': array([-0.4152813 , -0.41899176, -0.46238702, -0.45892138, -0.37415871,\n",
              "        -0.38399877, -0.42785546, -0.420185  , -0.37262068, -0.36865325,\n",
              "        -0.41057892, -0.40827576]),\n",
              " 'split2_train_score': array([-0.31369618, -0.30805092, -0.350285  , -0.34698542, -0.18306254,\n",
              "        -0.18501861, -0.21193496, -0.21334033, -0.14757193, -0.1523111 ,\n",
              "        -0.16519707, -0.1619983 ]),\n",
              " 'split3_test_score': array([-0.43743359, -0.44556837, -0.50849834, -0.50952112, -0.4165506 ,\n",
              "        -0.412934  , -0.46379072, -0.46332415, -0.41038603, -0.40409859,\n",
              "        -0.47557864, -0.44684129]),\n",
              " 'split3_train_score': array([-0.29824681, -0.30377601, -0.35172842, -0.35525776, -0.18008352,\n",
              "        -0.17898007, -0.20992345, -0.19991929, -0.15289942, -0.15222033,\n",
              "        -0.16644039, -0.16767217]),\n",
              " 'std_fit_time': array([1.31756693, 1.38642349, 0.06242421, 0.03624091, 2.22297587,\n",
              "        3.76957833, 0.09774357, 0.07674878, 3.34668166, 5.94581039,\n",
              "        0.07925401, 0.85842579]),\n",
              " 'std_score_time': array([0.00418158, 0.01570641, 0.00472206, 0.01830005, 0.00493501,\n",
              "        0.00765757, 0.00578032, 0.00124683, 0.00516337, 0.00721223,\n",
              "        0.00368432, 0.03084517]),\n",
              " 'std_test_score': array([0.01784722, 0.01629871, 0.01677055, 0.01829059, 0.01634597,\n",
              "        0.01324035, 0.01359539, 0.01530681, 0.01696327, 0.01865471,\n",
              "        0.0233723 , 0.01630492]),\n",
              " 'std_train_score': array([0.0091245 , 0.0050718 , 0.00500037, 0.00401166, 0.00342656,\n",
              "        0.00475103, 0.00281269, 0.00522355, 0.00414678, 0.00452076,\n",
              "        0.00471295, 0.00581134])}"
            ]
          },
          "metadata": {
            "tags": []
          },
          "execution_count": 98
        }
      ]
    },
    {
      "cell_type": "code",
      "metadata": {
        "id": "hDLf_xEuo7mR",
        "colab_type": "code",
        "colab": {}
      },
      "source": [
        ""
      ],
      "execution_count": 0,
      "outputs": []
    },
    {
      "cell_type": "code",
      "metadata": {
        "id": "AevLQurhRhvq",
        "colab_type": "code",
        "outputId": "e890c7a0-100e-40be-960e-9bf12013c3e2",
        "colab": {
          "base_uri": "https://localhost:8080/",
          "height": 185
        }
      },
      "source": [
        "a = pd.DataFrame(model.cv_results_)\n",
        "a[['mean_train_score','mean_test_score','params',mean_fit_time]].sort_values('mean_test_score', ascending = False)#, sortedby = 'mean_test_score')"
      ],
      "execution_count": 0,
      "outputs": [
        {
          "output_type": "error",
          "ename": "NameError",
          "evalue": "ignored",
          "traceback": [
            "\u001b[0;31m---------------------------------------------------------------------------\u001b[0m",
            "\u001b[0;31mNameError\u001b[0m                                 Traceback (most recent call last)",
            "\u001b[0;32m<ipython-input-115-161332396b17>\u001b[0m in \u001b[0;36m<module>\u001b[0;34m()\u001b[0m\n\u001b[0;32m----> 1\u001b[0;31m \u001b[0ma\u001b[0m\u001b[0;34m[\u001b[0m\u001b[0;34m[\u001b[0m\u001b[0;34m'mean_train_score'\u001b[0m\u001b[0;34m,\u001b[0m\u001b[0;34m'mean_test_score'\u001b[0m\u001b[0;34m,\u001b[0m\u001b[0;34m'params'\u001b[0m\u001b[0;34m,\u001b[0m\u001b[0mmean_fit_time\u001b[0m\u001b[0;34m]\u001b[0m\u001b[0;34m]\u001b[0m\u001b[0;34m.\u001b[0m\u001b[0msort_values\u001b[0m\u001b[0;34m(\u001b[0m\u001b[0;34m'mean_test_score'\u001b[0m\u001b[0;34m,\u001b[0m \u001b[0mascending\u001b[0m \u001b[0;34m=\u001b[0m \u001b[0;32mFalse\u001b[0m\u001b[0;34m)\u001b[0m\u001b[0;31m#, sortedby = 'mean_test_score')\u001b[0m\u001b[0;34m\u001b[0m\u001b[0;34m\u001b[0m\u001b[0m\n\u001b[0m",
            "\u001b[0;31mNameError\u001b[0m: name 'mean_fit_time' is not defined"
          ]
        }
      ]
    },
    {
      "cell_type": "code",
      "metadata": {
        "id": "vqvdRvaUMsBw",
        "colab_type": "code",
        "outputId": "9797f145-dc2d-4e07-fef2-7c8d11bb4e0b",
        "colab": {
          "base_uri": "https://localhost:8080/",
          "height": 104
        }
      },
      "source": [
        "parameters2 = {'max_depth':[20,30,40], \\\n",
        "              'max_features': ['auto'], 'n_estimators':[200,500]}\n",
        "\n",
        "nmodels2 = np.product([len(el) for el in parameters2.values()])\n",
        "\n",
        "model2 = GridSearchCV(RandomForestRegressor(), parameters2, cv = cv, \\\n",
        "                     scoring = 'neg_median_absolute_error', return_train_score = True, \\\n",
        "    verbose = 2, n_jobs = 4)\n",
        "start = time.time()\n",
        "model2.fit(X[sel,::2], targets)\n",
        "stop = time.time()\n",
        "print('Best params, best score:', \"{:.4f}\".format(model2.best_score_), model2.best_params_),\n",
        "print('Time per model (s):', \"{:.4f}\".format((stop-start)/float(nmodels2*4)))\n"
      ],
      "execution_count": 0,
      "outputs": [
        {
          "output_type": "stream",
          "text": [
            "Fitting 4 folds for each of 6 candidates, totalling 24 fits\n"
          ],
          "name": "stdout"
        },
        {
          "output_type": "stream",
          "text": [
            "[Parallel(n_jobs=4)]: Using backend LokyBackend with 4 concurrent workers.\n",
            "[Parallel(n_jobs=4)]: Done  24 out of  24 | elapsed: 64.9min finished\n"
          ],
          "name": "stderr"
        },
        {
          "output_type": "stream",
          "text": [
            "Best params, best score: -0.3959 {'max_depth': 30, 'max_features': 'auto', 'n_estimators': 200}\n",
            "Time per model (s): 168.6162\n"
          ],
          "name": "stdout"
        }
      ]
    },
    {
      "cell_type": "code",
      "metadata": {
        "id": "icnydBa1tBuB",
        "colab_type": "code",
        "colab": {}
      },
      "source": [
        ""
      ],
      "execution_count": 0,
      "outputs": []
    },
    {
      "cell_type": "code",
      "metadata": {
        "id": "I9nQYQWY7TAX",
        "colab_type": "code",
        "outputId": "e29ba67a-4690-40f9-be30-4587d6e676f1",
        "colab": {
          "base_uri": "https://localhost:8080/",
          "height": 237
        }
      },
      "source": [
        "b = pd.DataFrame(model2.cv_results_)\n",
        "b[['mean_train_score','mean_test_score','params','mean_fit_time']].sort_values('mean_test_score', ascending = False)#, sortedby = 'mean_test_score')"
      ],
      "execution_count": 0,
      "outputs": [
        {
          "output_type": "execute_result",
          "data": {
            "text/html": [
              "<div>\n",
              "<style scoped>\n",
              "    .dataframe tbody tr th:only-of-type {\n",
              "        vertical-align: middle;\n",
              "    }\n",
              "\n",
              "    .dataframe tbody tr th {\n",
              "        vertical-align: top;\n",
              "    }\n",
              "\n",
              "    .dataframe thead th {\n",
              "        text-align: right;\n",
              "    }\n",
              "</style>\n",
              "<table border=\"1\" class=\"dataframe\">\n",
              "  <thead>\n",
              "    <tr style=\"text-align: right;\">\n",
              "      <th></th>\n",
              "      <th>mean_train_score</th>\n",
              "      <th>mean_test_score</th>\n",
              "      <th>params</th>\n",
              "      <th>mean_fit_time</th>\n",
              "    </tr>\n",
              "  </thead>\n",
              "  <tbody>\n",
              "    <tr>\n",
              "      <th>2</th>\n",
              "      <td>-0.146802</td>\n",
              "      <td>-0.395946</td>\n",
              "      <td>{'max_depth': 30, 'max_features': 'auto', 'n_estimators': 200}</td>\n",
              "      <td>369.994167</td>\n",
              "    </tr>\n",
              "    <tr>\n",
              "      <th>4</th>\n",
              "      <td>-0.146782</td>\n",
              "      <td>-0.400436</td>\n",
              "      <td>{'max_depth': 40, 'max_features': 'auto', 'n_estimators': 200}</td>\n",
              "      <td>372.839408</td>\n",
              "    </tr>\n",
              "    <tr>\n",
              "      <th>3</th>\n",
              "      <td>-0.146567</td>\n",
              "      <td>-0.400541</td>\n",
              "      <td>{'max_depth': 30, 'max_features': 'auto', 'n_estimators': 500}</td>\n",
              "      <td>926.055208</td>\n",
              "    </tr>\n",
              "    <tr>\n",
              "      <th>1</th>\n",
              "      <td>-0.147896</td>\n",
              "      <td>-0.401356</td>\n",
              "      <td>{'max_depth': 20, 'max_features': 'auto', 'n_estimators': 500}</td>\n",
              "      <td>923.513032</td>\n",
              "    </tr>\n",
              "    <tr>\n",
              "      <th>0</th>\n",
              "      <td>-0.148202</td>\n",
              "      <td>-0.401552</td>\n",
              "      <td>{'max_depth': 20, 'max_features': 'auto', 'n_estimators': 200}</td>\n",
              "      <td>371.707079</td>\n",
              "    </tr>\n",
              "    <tr>\n",
              "      <th>5</th>\n",
              "      <td>-0.147294</td>\n",
              "      <td>-0.402877</td>\n",
              "      <td>{'max_depth': 40, 'max_features': 'auto', 'n_estimators': 500}</td>\n",
              "      <td>919.583136</td>\n",
              "    </tr>\n",
              "  </tbody>\n",
              "</table>\n",
              "</div>"
            ],
            "text/plain": [
              "   mean_train_score  mean_test_score  \\\n",
              "2         -0.146802        -0.395946   \n",
              "4         -0.146782        -0.400436   \n",
              "3         -0.146567        -0.400541   \n",
              "1         -0.147896        -0.401356   \n",
              "0         -0.148202        -0.401552   \n",
              "5         -0.147294        -0.402877   \n",
              "\n",
              "                                                           params  \\\n",
              "2  {'max_depth': 30, 'max_features': 'auto', 'n_estimators': 200}   \n",
              "4  {'max_depth': 40, 'max_features': 'auto', 'n_estimators': 200}   \n",
              "3  {'max_depth': 30, 'max_features': 'auto', 'n_estimators': 500}   \n",
              "1  {'max_depth': 20, 'max_features': 'auto', 'n_estimators': 500}   \n",
              "0  {'max_depth': 20, 'max_features': 'auto', 'n_estimators': 200}   \n",
              "5  {'max_depth': 40, 'max_features': 'auto', 'n_estimators': 500}   \n",
              "\n",
              "   mean_fit_time  \n",
              "2     369.994167  \n",
              "4     372.839408  \n",
              "3     926.055208  \n",
              "1     923.513032  \n",
              "0     371.707079  \n",
              "5     919.583136  "
            ]
          },
          "metadata": {
            "tags": []
          },
          "execution_count": 116
        }
      ]
    },
    {
      "cell_type": "code",
      "metadata": {
        "id": "TAMn-AtiNyoZ",
        "colab_type": "code",
        "outputId": "f7a93b49-d8d9-4483-fbe8-6ab4acef8a44",
        "colab": {
          "base_uri": "https://localhost:8080/",
          "height": 165
        }
      },
      "source": [
        "smape_scorer = make_scorer(multioutputsmape, greater_is_better = False)"
      ],
      "execution_count": 0,
      "outputs": [
        {
          "output_type": "error",
          "ename": "NameError",
          "evalue": "ignored",
          "traceback": [
            "\u001b[0;31m---------------------------------------------------------------------------\u001b[0m",
            "\u001b[0;31mNameError\u001b[0m                                 Traceback (most recent call last)",
            "\u001b[0;32m<ipython-input-1-92cf83895e8f>\u001b[0m in \u001b[0;36m<module>\u001b[0;34m()\u001b[0m\n\u001b[0;32m----> 1\u001b[0;31m \u001b[0msmape_scorer\u001b[0m \u001b[0;34m=\u001b[0m \u001b[0mmake_scorer\u001b[0m\u001b[0;34m(\u001b[0m\u001b[0mmultioutputsmape\u001b[0m\u001b[0;34m,\u001b[0m \u001b[0mgreater_is_better\u001b[0m \u001b[0;34m=\u001b[0m \u001b[0;32mFalse\u001b[0m\u001b[0;34m)\u001b[0m\u001b[0;34m\u001b[0m\u001b[0;34m\u001b[0m\u001b[0m\n\u001b[0m",
            "\u001b[0;31mNameError\u001b[0m: name 'make_scorer' is not defined"
          ]
        }
      ]
    },
    {
      "cell_type": "code",
      "metadata": {
        "id": "zhZ_x4NsBSoE",
        "colab_type": "code",
        "colab": {}
      },
      "source": [
        "from sklearn.model_selection import learning_curve\n",
        "from sklearn.model_selection import ShuffleSplit"
      ],
      "execution_count": 0,
      "outputs": []
    },
    {
      "cell_type": "code",
      "metadata": {
        "id": "iDnqBw9HAm1A",
        "colab_type": "code",
        "colab": {}
      },
      "source": [
        "#This helps visualize the training vs the test. Will help us visualize and see what would happen if we use more data or if \n",
        "#the data has plateaued. \n",
        "\n",
        "from sklearn.model_selection import learning_curve\n",
        "from sklearn.model_selection import ShuffleSplit\n",
        "\n",
        "\n",
        "def plot_learning_curve(estimator, title, X, y, ylim=None, cv=5,\n",
        "                        n_jobs=-1, train_sizes=np.linspace(.1, 1.0, 5), scoring = 'accuracy'):\n",
        "    \"\"\"\n",
        "    Generate a simple plot of the test and training learning curve.\n",
        "\n",
        "    Parameters\n",
        "    ----------\n",
        "    estimator : object type that implements the \"fit\" and \"predict\" methods\n",
        "        An object of that type which is cloned for each validation.\n",
        "\n",
        "    title : string\n",
        "        Title for the chart.\n",
        "\n",
        "    X : array-like, shape (n_samples, n_features)\n",
        "        Training vector, where n_samples is the number of samples and\n",
        "        n_features is the number of features.\n",
        "\n",
        "    y : array-like, shape (n_samples) or (n_samples, n_features), optional\n",
        "        Target relative to X for classification or regression;\n",
        "        None for unsupervised learning.\n",
        "\n",
        "    ylim : tuple, shape (ymin, ymax), optional\n",
        "        Defines minimum and maximum yvalues plotted.\n",
        "\n",
        "    cv : int, cross-validation generator or an iterable, optional\n",
        "        Determines the cross-validation splitting strategy.\n",
        "        Possible inputs for cv are:\n",
        "          - None, to use the default 3-fold cross-validation,\n",
        "          - integer, to specify the number of folds.\n",
        "          - :term:`CV splitter`,\n",
        "          - An iterable yielding (train, test) splits as arrays of indices.\n",
        "\n",
        "        For integer/None inputs, if ``y`` is binary or multiclass,\n",
        "        :class:`StratifiedKFold` used. If the estimator is not a classifier\n",
        "        or if ``y`` is neither binary nor multiclass, :class:`KFold` is used.\n",
        "\n",
        "        Refer :ref:`User Guide <cross_validation>` for the various\n",
        "        cross-validators that can be used here.\n",
        "\n",
        "    n_jobs : int or None, optional (default=None)\n",
        "        Number of jobs to run in parallel.\n",
        "        ``None`` means 1 unless in a :obj:`joblib.parallel_backend` context.\n",
        "        ``-1`` means using all processors. See :term:`Glossary <n_jobs>`\n",
        "        for more details.\n",
        "\n",
        "    train_sizes : array-like, shape (n_ticks,), dtype float or int\n",
        "        Relative or absolute numbers of training examples that will be used to\n",
        "        generate the learning curve. If the dtype is float, it is regarded as a\n",
        "        fraction of the maximum size of the training set (that is determined\n",
        "        by the selected validation method), i.e. it has to be within (0, 1].\n",
        "        Otherwise it is interpreted as absolute sizes of the training sets.\n",
        "        Note that for classification the number of samples usually have to\n",
        "        be big enough to contain at least one sample from each class.\n",
        "        (default: np.linspace(0.1, 1.0, 5))\n",
        "    \"\"\"\n",
        "    plt.figure(figsize=(10,6))\n",
        "    plt.title(title)\n",
        "    if ylim is not None:\n",
        "        plt.ylim(*ylim)\n",
        "    plt.xlabel(\"Training examples\")\n",
        "    plt.ylabel(\"Score\")\n",
        "    \n",
        "    train_sizes, train_scores, test_scores = learning_curve(\n",
        "        estimator, X, y, cv=cv, n_jobs=n_jobs, train_sizes=train_sizes, scoring = scoring, verbose = 2)\n",
        "    train_scores_mean = np.mean(train_scores, axis=1)\n",
        "    train_scores_std = np.std(train_scores, axis=1)\n",
        "    test_scores_mean = np.mean(test_scores, axis=1)\n",
        "    test_scores_std = np.std(test_scores, axis=1)\n",
        "    plt.grid()\n",
        "\n",
        "    plt.fill_between(train_sizes, train_scores_mean - train_scores_std,\n",
        "                     train_scores_mean + train_scores_std, alpha=0.1,\n",
        "                     color=\"r\")\n",
        "    plt.fill_between(train_sizes, test_scores_mean - test_scores_std,\n",
        "                     test_scores_mean + test_scores_std, alpha=0.1, color=\"g\")\n",
        "    plt.plot(train_sizes, train_scores_mean, 'o-', color=\"r\",\n",
        "             label=\"Training score\")\n",
        "    plt.plot(train_sizes, test_scores_mean, 'o-', color=\"g\",\n",
        "             label=\"Test score from cross-validation\")\n",
        "\n",
        "    plt.legend(loc=\"best\")\n",
        "    return plt"
      ],
      "execution_count": 0,
      "outputs": []
    },
    {
      "cell_type": "code",
      "metadata": {
        "id": "Ryc6gD1rN3Bf",
        "colab_type": "code",
        "colab": {}
      },
      "source": [
        "a.tr"
      ],
      "execution_count": 0,
      "outputs": []
    }
  ]
}